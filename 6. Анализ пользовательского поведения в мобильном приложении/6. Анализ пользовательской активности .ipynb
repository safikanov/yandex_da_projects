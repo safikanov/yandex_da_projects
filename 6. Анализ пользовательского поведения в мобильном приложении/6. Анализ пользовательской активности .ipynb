{
 "cells": [
  {
   "cell_type": "markdown",
   "metadata": {},
   "source": [
    "# Сборный проект\n",
    "\n",
    "###### Цель проекта\n",
    "Нужно разобраться, как ведут себя пользователи нашего мобильного приложения. Исследовать результаты A/A/B-эксперимента и принять решение по его результатам.\n",
    "\n",
    "###### Описание данных\n",
    "Каждая запись в логе — это действие пользователя, или событие.\n",
    "- EventName — название события;\n",
    "- DeviceIDHash — уникальный идентификатор пользователя;\n",
    "- EventTimestamp — время события;\n",
    "- ExpId — номер эксперимента: 246 и 247 — контрольные группы, а 248 — экспериментальная.\n",
    "\n",
    "---\n",
    "\n",
    "## 1. Импортируем библиотеки. Загрузим данные и подготовим их к анализу."
   ]
  },
  {
   "cell_type": "code",
   "execution_count": 1,
   "metadata": {},
   "outputs": [],
   "source": [
    "import pandas as pd\n",
    "import numpy as np\n",
    "from scipy import stats as st\n",
    "import math as mth\n",
    "import matplotlib.pyplot as plt\n",
    "import seaborn as sns\n",
    "import warnings\n",
    "warnings.filterwarnings('ignore')"
   ]
  },
  {
   "cell_type": "code",
   "execution_count": 2,
   "metadata": {},
   "outputs": [],
   "source": [
    "logs = pd.read_csv('/datasets/logs_exp.csv', sep='\\t')"
   ]
  },
  {
   "cell_type": "code",
   "execution_count": 3,
   "metadata": {},
   "outputs": [
    {
     "name": "stdout",
     "output_type": "stream",
     "text": [
      "<class 'pandas.core.frame.DataFrame'>\n",
      "RangeIndex: 244126 entries, 0 to 244125\n",
      "Data columns (total 4 columns):\n",
      "EventName         244126 non-null object\n",
      "DeviceIDHash      244126 non-null int64\n",
      "EventTimestamp    244126 non-null int64\n",
      "ExpId             244126 non-null int64\n",
      "dtypes: int64(3), object(1)\n",
      "memory usage: 7.5+ MB\n"
     ]
    }
   ],
   "source": [
    "logs.info()"
   ]
  },
  {
   "cell_type": "code",
   "execution_count": 4,
   "metadata": {},
   "outputs": [],
   "source": [
    "logs.columns=['event','id','timestamp','group']\n",
    "logs['dt'] = pd.to_datetime(logs['timestamp'], unit = 's')\n",
    "logs['date'] = logs['dt'].astype('datetime64[D]')"
   ]
  },
  {
   "cell_type": "code",
   "execution_count": 5,
   "metadata": {},
   "outputs": [
    {
     "data": {
      "text/plain": [
       "413"
      ]
     },
     "execution_count": 5,
     "metadata": {},
     "output_type": "execute_result"
    }
   ],
   "source": [
    "logs.duplicated().sum()"
   ]
  },
  {
   "cell_type": "code",
   "execution_count": 6,
   "metadata": {},
   "outputs": [],
   "source": [
    "logs = logs.drop_duplicates().reset_index(drop = True)"
   ]
  },
  {
   "cell_type": "code",
   "execution_count": 7,
   "metadata": {
    "scrolled": false
   },
   "outputs": [
    {
     "data": {
      "text/html": [
       "<div>\n",
       "<style scoped>\n",
       "    .dataframe tbody tr th:only-of-type {\n",
       "        vertical-align: middle;\n",
       "    }\n",
       "\n",
       "    .dataframe tbody tr th {\n",
       "        vertical-align: top;\n",
       "    }\n",
       "\n",
       "    .dataframe thead th {\n",
       "        text-align: right;\n",
       "    }\n",
       "</style>\n",
       "<table border=\"1\" class=\"dataframe\">\n",
       "  <thead>\n",
       "    <tr style=\"text-align: right;\">\n",
       "      <th></th>\n",
       "      <th>event</th>\n",
       "      <th>id</th>\n",
       "      <th>timestamp</th>\n",
       "      <th>group</th>\n",
       "      <th>dt</th>\n",
       "      <th>date</th>\n",
       "    </tr>\n",
       "  </thead>\n",
       "  <tbody>\n",
       "    <tr>\n",
       "      <td>0</td>\n",
       "      <td>MainScreenAppear</td>\n",
       "      <td>4575588528974610257</td>\n",
       "      <td>1564029816</td>\n",
       "      <td>246</td>\n",
       "      <td>2019-07-25 04:43:36</td>\n",
       "      <td>2019-07-25</td>\n",
       "    </tr>\n",
       "    <tr>\n",
       "      <td>1</td>\n",
       "      <td>MainScreenAppear</td>\n",
       "      <td>7416695313311560658</td>\n",
       "      <td>1564053102</td>\n",
       "      <td>246</td>\n",
       "      <td>2019-07-25 11:11:42</td>\n",
       "      <td>2019-07-25</td>\n",
       "    </tr>\n",
       "    <tr>\n",
       "      <td>2</td>\n",
       "      <td>PaymentScreenSuccessful</td>\n",
       "      <td>3518123091307005509</td>\n",
       "      <td>1564054127</td>\n",
       "      <td>248</td>\n",
       "      <td>2019-07-25 11:28:47</td>\n",
       "      <td>2019-07-25</td>\n",
       "    </tr>\n",
       "    <tr>\n",
       "      <td>3</td>\n",
       "      <td>CartScreenAppear</td>\n",
       "      <td>3518123091307005509</td>\n",
       "      <td>1564054127</td>\n",
       "      <td>248</td>\n",
       "      <td>2019-07-25 11:28:47</td>\n",
       "      <td>2019-07-25</td>\n",
       "    </tr>\n",
       "    <tr>\n",
       "      <td>4</td>\n",
       "      <td>PaymentScreenSuccessful</td>\n",
       "      <td>6217807653094995999</td>\n",
       "      <td>1564055322</td>\n",
       "      <td>248</td>\n",
       "      <td>2019-07-25 11:48:42</td>\n",
       "      <td>2019-07-25</td>\n",
       "    </tr>\n",
       "  </tbody>\n",
       "</table>\n",
       "</div>"
      ],
      "text/plain": [
       "                     event                   id   timestamp  group  \\\n",
       "0         MainScreenAppear  4575588528974610257  1564029816    246   \n",
       "1         MainScreenAppear  7416695313311560658  1564053102    246   \n",
       "2  PaymentScreenSuccessful  3518123091307005509  1564054127    248   \n",
       "3         CartScreenAppear  3518123091307005509  1564054127    248   \n",
       "4  PaymentScreenSuccessful  6217807653094995999  1564055322    248   \n",
       "\n",
       "                   dt       date  \n",
       "0 2019-07-25 04:43:36 2019-07-25  \n",
       "1 2019-07-25 11:11:42 2019-07-25  \n",
       "2 2019-07-25 11:28:47 2019-07-25  \n",
       "3 2019-07-25 11:28:47 2019-07-25  \n",
       "4 2019-07-25 11:48:42 2019-07-25  "
      ]
     },
     "execution_count": 7,
     "metadata": {},
     "output_type": "execute_result"
    }
   ],
   "source": [
    "logs.head()"
   ]
  },
  {
   "cell_type": "markdown",
   "metadata": {},
   "source": [
    "Поменяли названия столбцов на более удобные, удалили дубликаты и заменили типы данных там, где это необходимо.\n",
    "\n",
    "---\n",
    "\n",
    "## 2. Изучим и проверим данные\n",
    "\n",
    "Посмотрим: \n",
    "- Сколько всего событий в логе?\n",
    "- Сколько всего пользователей в логе?\n",
    "- Сколько в среднем событий приходится на пользователя?"
   ]
  },
  {
   "cell_type": "code",
   "execution_count": 9,
   "metadata": {},
   "outputs": [
    {
     "name": "stdout",
     "output_type": "stream",
     "text": [
      "Всего событий в логе 243713, типов событий в логе 5.\n"
     ]
    }
   ],
   "source": [
    "print('Всего событий в логе %d, типов событий в логе %d.' % (logs.shape[0], logs['event'].nunique()))"
   ]
  },
  {
   "cell_type": "code",
   "execution_count": 10,
   "metadata": {},
   "outputs": [
    {
     "name": "stdout",
     "output_type": "stream",
     "text": [
      "Всего пользователей в логе 7551.\n"
     ]
    }
   ],
   "source": [
    "print('Всего пользователей в логе %d.' % (logs['id'].nunique()))"
   ]
  },
  {
   "cell_type": "code",
   "execution_count": 11,
   "metadata": {},
   "outputs": [
    {
     "name": "stdout",
     "output_type": "stream",
     "text": [
      "В среднем событий на пользователя 32.\n"
     ]
    }
   ],
   "source": [
    "print('В среднем событий на пользователя %d.' % (logs.shape[0] / logs['id'].nunique()))"
   ]
  },
  {
   "cell_type": "markdown",
   "metadata": {},
   "source": [
    "---\n",
    "\n",
    "Найдем максимальную и минимальную дату. Построим гистограмму по дате и времени. Определим, с какого момента данные полные и отбросим более старые."
   ]
  },
  {
   "cell_type": "code",
   "execution_count": 12,
   "metadata": {},
   "outputs": [
    {
     "data": {
      "text/plain": [
       "'Дата начала теста 2019-07-25 04:43:36'"
      ]
     },
     "metadata": {},
     "output_type": "display_data"
    },
    {
     "data": {
      "text/plain": [
       "'Дата окончания теста 2019-08-07 21:15:17'"
      ]
     },
     "metadata": {},
     "output_type": "display_data"
    }
   ],
   "source": [
    "display('Дата начала теста {}'.format(logs['dt'].min()))\n",
    "display('Дата окончания теста {}'.format(logs['dt'].max()))"
   ]
  },
  {
   "cell_type": "code",
   "execution_count": 13,
   "metadata": {},
   "outputs": [
    {
     "data": {
      "image/png": "[encoded data removed]",
      "text/plain": [
       "<Figure size 1080x360 with 1 Axes>"
      ]
     },
     "metadata": {
      "needs_background": "light"
     },
     "output_type": "display_data"
    }
   ],
   "source": [
    "logs['dt'].hist(bins=100, figsize=(15,5))\n",
    "plt.title('Распределение количества пользователей по датам')\n",
    "plt.ylabel('Количество пользователей')\n",
    "plt.xlabel('Дата')\n",
    "plt.show()"
   ]
  },
  {
   "cell_type": "markdown",
   "metadata": {},
   "source": [
    "Согласно гистограмме у нас почти нет данных за первую неделю. Корректно отсечь данные за июль и использовать только август. Посмотрим на обновленные данные."
   ]
  },
  {
   "cell_type": "code",
   "execution_count": 14,
   "metadata": {},
   "outputs": [],
   "source": [
    "df = logs.query('dt >= \"2019-08-01\"')"
   ]
  },
  {
   "cell_type": "code",
   "execution_count": 15,
   "metadata": {},
   "outputs": [
    {
     "data": {
      "text/html": [
       "<div>\n",
       "<style scoped>\n",
       "    .dataframe tbody tr th:only-of-type {\n",
       "        vertical-align: middle;\n",
       "    }\n",
       "\n",
       "    .dataframe tbody tr th {\n",
       "        vertical-align: top;\n",
       "    }\n",
       "\n",
       "    .dataframe thead th {\n",
       "        text-align: right;\n",
       "    }\n",
       "</style>\n",
       "<table border=\"1\" class=\"dataframe\">\n",
       "  <thead>\n",
       "    <tr style=\"text-align: right;\">\n",
       "      <th></th>\n",
       "      <th>event</th>\n",
       "      <th>id</th>\n",
       "      <th>timestamp</th>\n",
       "      <th>group</th>\n",
       "      <th>dt</th>\n",
       "      <th>date</th>\n",
       "    </tr>\n",
       "  </thead>\n",
       "  <tbody>\n",
       "    <tr>\n",
       "      <td>2826</td>\n",
       "      <td>Tutorial</td>\n",
       "      <td>3737462046622621720</td>\n",
       "      <td>1564618048</td>\n",
       "      <td>246</td>\n",
       "      <td>2019-08-01 00:07:28</td>\n",
       "      <td>2019-08-01</td>\n",
       "    </tr>\n",
       "    <tr>\n",
       "      <td>2827</td>\n",
       "      <td>MainScreenAppear</td>\n",
       "      <td>3737462046622621720</td>\n",
       "      <td>1564618080</td>\n",
       "      <td>246</td>\n",
       "      <td>2019-08-01 00:08:00</td>\n",
       "      <td>2019-08-01</td>\n",
       "    </tr>\n",
       "    <tr>\n",
       "      <td>2828</td>\n",
       "      <td>MainScreenAppear</td>\n",
       "      <td>3737462046622621720</td>\n",
       "      <td>1564618135</td>\n",
       "      <td>246</td>\n",
       "      <td>2019-08-01 00:08:55</td>\n",
       "      <td>2019-08-01</td>\n",
       "    </tr>\n",
       "    <tr>\n",
       "      <td>2829</td>\n",
       "      <td>OffersScreenAppear</td>\n",
       "      <td>3737462046622621720</td>\n",
       "      <td>1564618138</td>\n",
       "      <td>246</td>\n",
       "      <td>2019-08-01 00:08:58</td>\n",
       "      <td>2019-08-01</td>\n",
       "    </tr>\n",
       "    <tr>\n",
       "      <td>2830</td>\n",
       "      <td>MainScreenAppear</td>\n",
       "      <td>1433840883824088890</td>\n",
       "      <td>1564618139</td>\n",
       "      <td>247</td>\n",
       "      <td>2019-08-01 00:08:59</td>\n",
       "      <td>2019-08-01</td>\n",
       "    </tr>\n",
       "  </tbody>\n",
       "</table>\n",
       "</div>"
      ],
      "text/plain": [
       "                   event                   id   timestamp  group  \\\n",
       "2826            Tutorial  3737462046622621720  1564618048    246   \n",
       "2827    MainScreenAppear  3737462046622621720  1564618080    246   \n",
       "2828    MainScreenAppear  3737462046622621720  1564618135    246   \n",
       "2829  OffersScreenAppear  3737462046622621720  1564618138    246   \n",
       "2830    MainScreenAppear  1433840883824088890  1564618139    247   \n",
       "\n",
       "                      dt       date  \n",
       "2826 2019-08-01 00:07:28 2019-08-01  \n",
       "2827 2019-08-01 00:08:00 2019-08-01  \n",
       "2828 2019-08-01 00:08:55 2019-08-01  \n",
       "2829 2019-08-01 00:08:58 2019-08-01  \n",
       "2830 2019-08-01 00:08:59 2019-08-01  "
      ]
     },
     "execution_count": 15,
     "metadata": {},
     "output_type": "execute_result"
    }
   ],
   "source": [
    "df.head()"
   ]
  },
  {
   "cell_type": "code",
   "execution_count": 18,
   "metadata": {},
   "outputs": [
    {
     "data": {
      "image/png": "[encoded data removed]",
      "text/plain": [
       "<Figure size 1080x360 with 1 Axes>"
      ]
     },
     "metadata": {
      "needs_background": "light"
     },
     "output_type": "display_data"
    }
   ],
   "source": [
    "df['dt'].hist(bins=100, figsize=(15,5))\n",
    "plt.title('Распределение количества пользователей по датам')\n",
    "plt.ylabel('Количество пользователей')\n",
    "plt.xlabel('Дата')\n",
    "plt.show()"
   ]
  },
  {
   "cell_type": "markdown",
   "metadata": {},
   "source": [
    "\n",
    "---\n",
    "\n",
    "Посмотрим много ли событий и пользователей мы потеряли, отбросив старые данные."
   ]
  },
  {
   "cell_type": "code",
   "execution_count": 19,
   "metadata": {},
   "outputs": [
    {
     "data": {
      "text/plain": [
       "17"
      ]
     },
     "execution_count": 19,
     "metadata": {},
     "output_type": "execute_result"
    }
   ],
   "source": [
    "logs['id'].nunique() - df['id'].nunique()"
   ]
  },
  {
   "cell_type": "code",
   "execution_count": 20,
   "metadata": {},
   "outputs": [
    {
     "data": {
      "text/plain": [
       "2826"
      ]
     },
     "execution_count": 20,
     "metadata": {},
     "output_type": "execute_result"
    }
   ],
   "source": [
    "logs['event'].count() - df['event'].count()"
   ]
  },
  {
   "cell_type": "markdown",
   "metadata": {},
   "source": [
    "Отбросив неактуальные данные мы потеряли лишь 17 пользователей, на которых приходилось 2926 событий.\n",
    "\n",
    "---\n",
    "\n",
    "Проверим, что у вас есть пользователи из всех трёх экспериментальных групп.\n"
   ]
  },
  {
   "cell_type": "code",
   "execution_count": 21,
   "metadata": {},
   "outputs": [
    {
     "data": {
      "text/plain": [
       "248    84563\n",
       "246    79302\n",
       "247    77022\n",
       "Name: group, dtype: int64"
      ]
     },
     "execution_count": 21,
     "metadata": {},
     "output_type": "execute_result"
    }
   ],
   "source": [
    "df['group'].value_counts()"
   ]
  },
  {
   "cell_type": "code",
   "execution_count": 22,
   "metadata": {
    "scrolled": true
   },
   "outputs": [
    {
     "data": {
      "text/html": [
       "<div>\n",
       "<style scoped>\n",
       "    .dataframe tbody tr th:only-of-type {\n",
       "        vertical-align: middle;\n",
       "    }\n",
       "\n",
       "    .dataframe tbody tr th {\n",
       "        vertical-align: top;\n",
       "    }\n",
       "\n",
       "    .dataframe thead th {\n",
       "        text-align: right;\n",
       "    }\n",
       "</style>\n",
       "<table border=\"1\" class=\"dataframe\">\n",
       "  <thead>\n",
       "    <tr style=\"text-align: right;\">\n",
       "      <th></th>\n",
       "      <th>id</th>\n",
       "    </tr>\n",
       "    <tr>\n",
       "      <th>group</th>\n",
       "      <th></th>\n",
       "    </tr>\n",
       "  </thead>\n",
       "  <tbody>\n",
       "    <tr>\n",
       "      <td>246</td>\n",
       "      <td>2484</td>\n",
       "    </tr>\n",
       "    <tr>\n",
       "      <td>247</td>\n",
       "      <td>2513</td>\n",
       "    </tr>\n",
       "    <tr>\n",
       "      <td>248</td>\n",
       "      <td>2537</td>\n",
       "    </tr>\n",
       "  </tbody>\n",
       "</table>\n",
       "</div>"
      ],
      "text/plain": [
       "         id\n",
       "group      \n",
       "246    2484\n",
       "247    2513\n",
       "248    2537"
      ]
     },
     "execution_count": 22,
     "metadata": {},
     "output_type": "execute_result"
    }
   ],
   "source": [
    "df.groupby('group').agg({'id':'nunique'})"
   ]
  },
  {
   "cell_type": "markdown",
   "metadata": {},
   "source": [
    "С этим все в порядке, пользователи из всех трёх экспериментальных групп присутсвуют в данных.\n",
    "\n",
    "---\n",
    "\n",
    "Изучив данные, можно сделать следующие выводы: \n",
    "- В логе 5 типов событий;\n",
    "- Всего событий 243713;\n",
    "- Пользователей в логе 7551;\n",
    "- В среднем событий на пользователя 32;\n",
    "- Данные представлены за две недели, из которых лишь во второй неделе данные являются полными. Поэтому мы отсекли данные за первую неделю;\n",
    "- Отбросив неактуальные данные мы потеряли лишь 17 пользователей, на которых приходилось 2926 событий;\n",
    "- В данных остались пользователи из всех трёх групп.\n",
    "\n",
    "\n",
    "----\n",
    "\n",
    "## 3. Изучим воронку событий\n",
    "\n",
    "\n",
    "Посмотрим, какие события есть в логах, как часто они встречаются. Отсортируем события по частоте."
   ]
  },
  {
   "cell_type": "code",
   "execution_count": 23,
   "metadata": {},
   "outputs": [
    {
     "data": {
      "text/plain": [
       "MainScreenAppear           117328\n",
       "OffersScreenAppear          46333\n",
       "CartScreenAppear            42303\n",
       "PaymentScreenSuccessful     33918\n",
       "Tutorial                     1005\n",
       "Name: event, dtype: int64"
      ]
     },
     "execution_count": 23,
     "metadata": {},
     "output_type": "execute_result"
    }
   ],
   "source": [
    "df['event'].value_counts()"
   ]
  },
  {
   "cell_type": "markdown",
   "metadata": {},
   "source": [
    "Посчитаем, сколько пользователей совершали каждое из этих событий. Отсортируем события по числу пользователей. Посчитаем долю пользователей, которые хоть раз совершали событие."
   ]
  },
  {
   "cell_type": "code",
   "execution_count": 24,
   "metadata": {},
   "outputs": [
    {
     "data": {
      "text/html": [
       "<div>\n",
       "<style scoped>\n",
       "    .dataframe tbody tr th:only-of-type {\n",
       "        vertical-align: middle;\n",
       "    }\n",
       "\n",
       "    .dataframe tbody tr th {\n",
       "        vertical-align: top;\n",
       "    }\n",
       "\n",
       "    .dataframe thead th {\n",
       "        text-align: right;\n",
       "    }\n",
       "</style>\n",
       "<table border=\"1\" class=\"dataframe\">\n",
       "  <thead>\n",
       "    <tr style=\"text-align: right;\">\n",
       "      <th></th>\n",
       "      <th>id</th>\n",
       "      <th>ratio</th>\n",
       "    </tr>\n",
       "    <tr>\n",
       "      <th>event</th>\n",
       "      <th></th>\n",
       "      <th></th>\n",
       "    </tr>\n",
       "  </thead>\n",
       "  <tbody>\n",
       "    <tr>\n",
       "      <td>MainScreenAppear</td>\n",
       "      <td>7419</td>\n",
       "      <td>98.47%</td>\n",
       "    </tr>\n",
       "    <tr>\n",
       "      <td>OffersScreenAppear</td>\n",
       "      <td>4593</td>\n",
       "      <td>60.96%</td>\n",
       "    </tr>\n",
       "    <tr>\n",
       "      <td>CartScreenAppear</td>\n",
       "      <td>3734</td>\n",
       "      <td>49.56%</td>\n",
       "    </tr>\n",
       "    <tr>\n",
       "      <td>PaymentScreenSuccessful</td>\n",
       "      <td>3539</td>\n",
       "      <td>46.97%</td>\n",
       "    </tr>\n",
       "    <tr>\n",
       "      <td>Tutorial</td>\n",
       "      <td>840</td>\n",
       "      <td>11.15%</td>\n",
       "    </tr>\n",
       "  </tbody>\n",
       "</table>\n",
       "</div>"
      ],
      "text/plain": [
       "                           id   ratio\n",
       "event                                \n",
       "MainScreenAppear         7419  98.47%\n",
       "OffersScreenAppear       4593  60.96%\n",
       "CartScreenAppear         3734  49.56%\n",
       "PaymentScreenSuccessful  3539  46.97%\n",
       "Tutorial                  840  11.15%"
      ]
     },
     "execution_count": 24,
     "metadata": {},
     "output_type": "execute_result"
    }
   ],
   "source": [
    "events_per_user = (df\n",
    "                    .groupby('event')\n",
    "                    .agg({'id':'nunique'})\n",
    "                    .sort_values(by='id',\n",
    "                                 ascending=False)\n",
    "                   )\n",
    "\n",
    "events_per_user['ratio'] = ((events_per_user['id'] / df['id'].nunique()).map('{:.2%}'.format))\n",
    "events_per_user"
   ]
  },
  {
   "cell_type": "markdown",
   "metadata": {},
   "source": [
    "Видим, что не все пользователи попадают на Главный экран, возможно это связано с тем что пользователи начали сессию и продолжили её спустя время, минуя событие с главным экраном. Событие туториал совершали лишь **11%** пользователей, по всей видимосьти это событие не обязательное и происходит по желанию пользователя, в дальнейшем мы его рассматривать не будем. \n",
    "\n",
    "События происходят в следующем порядке:\n",
    "\n",
    "- **MainScreenAppear** - появление главного экрана;\n",
    "- **OffersScreenAppear** - предложение о товаре;\n",
    "- **CartScreenAppear** - переход в корзину;\n",
    "- **PaymentScreenSuccessful** - экран успешной оплаты заказа.\n",
    "\n",
    "\n",
    "---\n",
    "\n",
    "По воронке событий посчитаем, какая доля пользователей проходит на следующий шаг воронки от числа пользователей на предыдущем шаге.\n",
    "\n",
    "Посмотрим:\n",
    "- На каком шаге теряется больше всего пользователей?\n",
    "\n",
    "- Какая доля пользователей доходит от первого события до оплаты?"
   ]
  },
  {
   "cell_type": "code",
   "execution_count": 25,
   "metadata": {},
   "outputs": [
    {
     "data": {
      "text/html": [
       "<div>\n",
       "<style scoped>\n",
       "    .dataframe tbody tr th:only-of-type {\n",
       "        vertical-align: middle;\n",
       "    }\n",
       "\n",
       "    .dataframe tbody tr th {\n",
       "        vertical-align: top;\n",
       "    }\n",
       "\n",
       "    .dataframe thead th {\n",
       "        text-align: right;\n",
       "    }\n",
       "</style>\n",
       "<table border=\"1\" class=\"dataframe\">\n",
       "  <thead>\n",
       "    <tr style=\"text-align: right;\">\n",
       "      <th></th>\n",
       "      <th>id</th>\n",
       "      <th>ratio</th>\n",
       "    </tr>\n",
       "    <tr>\n",
       "      <th>event</th>\n",
       "      <th></th>\n",
       "      <th></th>\n",
       "    </tr>\n",
       "  </thead>\n",
       "  <tbody>\n",
       "    <tr>\n",
       "      <td>MainScreenAppear</td>\n",
       "      <td>7419</td>\n",
       "      <td>NaN</td>\n",
       "    </tr>\n",
       "    <tr>\n",
       "      <td>OffersScreenAppear</td>\n",
       "      <td>4593</td>\n",
       "      <td>0.619086</td>\n",
       "    </tr>\n",
       "    <tr>\n",
       "      <td>CartScreenAppear</td>\n",
       "      <td>3734</td>\n",
       "      <td>0.812976</td>\n",
       "    </tr>\n",
       "    <tr>\n",
       "      <td>PaymentScreenSuccessful</td>\n",
       "      <td>3539</td>\n",
       "      <td>0.947777</td>\n",
       "    </tr>\n",
       "  </tbody>\n",
       "</table>\n",
       "</div>"
      ],
      "text/plain": [
       "                           id     ratio\n",
       "event                                  \n",
       "MainScreenAppear         7419       NaN\n",
       "OffersScreenAppear       4593  0.619086\n",
       "CartScreenAppear         3734  0.812976\n",
       "PaymentScreenSuccessful  3539  0.947777"
      ]
     },
     "execution_count": 25,
     "metadata": {},
     "output_type": "execute_result"
    }
   ],
   "source": [
    "events_per_users = (df\n",
    "                    .query('event != \"Tutorial\"')\n",
    "                    .groupby('event')\n",
    "                    .agg({'id':'nunique'})\n",
    "                    .sort_values(by='id',\n",
    "                                 ascending=False)\n",
    "                   )\n",
    "\n",
    "events_per_users = events_per_users[['id']].assign(ratio=events_per_users['id'].pct_change().add(1))\n",
    "events_per_users"
   ]
  },
  {
   "cell_type": "markdown",
   "metadata": {},
   "source": [
    "Больше всего мы теряем пользователей после первого шага из главного экрана MainScreenAppear в предложение OffersScreenAppear. \n",
    "А именно **38%** пользователей."
   ]
  },
  {
   "cell_type": "code",
   "execution_count": 26,
   "metadata": {
    "scrolled": false
   },
   "outputs": [
    {
     "data": {
      "text/plain": [
       "event\n",
       "MainScreenAppear                NaN\n",
       "OffersScreenAppear         0.619086\n",
       "CartScreenAppear           0.503302\n",
       "PaymentScreenSuccessful    0.477018\n",
       "Name: ratio, dtype: float64"
      ]
     },
     "execution_count": 26,
     "metadata": {},
     "output_type": "execute_result"
    }
   ],
   "source": [
    "events_per_users['ratio'].cumprod()"
   ]
  },
  {
   "cell_type": "markdown",
   "metadata": {},
   "source": [
    "**47,7%** доля пользователей которые дошли от первого события до успешной оплаты.\n",
    "\n",
    "---\n",
    "\n",
    "\n",
    "Изучив воронку событий, можно сделать следующие выводы:\n",
    "- Самым частым событием является появление Главного экрана, на него попадают **98.47%** от общего числа пользователей;\n",
    "- Туториал не пользуется спросом у пользователей и это событие совершили лишь **11%** пользователей;\n",
    "- События происходят в таком порядке **MainScreenAppear - OffersScreenAppear - CartScreenAppear - PaymentScreenSuccessful**;\n",
    "- Больше всего пользователей теряется на первом шаге из главного экрана на экран предложения, а именно **38%**;\n",
    "- Доля пользователей дошедших от первого события до успешной оплаты - **47,7%**.\n",
    "\n",
    "\n",
    "----\n",
    "\n",
    "##  4. Изучим результаты эксперимента\n",
    "\n",
    "\n",
    "Посмотрим сколько пользователей в каждой экспериментальной группе. Для дальнейшего удобства добавим новую строку с обьединенной группой."
   ]
  },
  {
   "cell_type": "code",
   "execution_count": 24,
   "metadata": {},
   "outputs": [
    {
     "data": {
      "text/html": [
       "<div>\n",
       "<style scoped>\n",
       "    .dataframe tbody tr th:only-of-type {\n",
       "        vertical-align: middle;\n",
       "    }\n",
       "\n",
       "    .dataframe tbody tr th {\n",
       "        vertical-align: top;\n",
       "    }\n",
       "\n",
       "    .dataframe thead th {\n",
       "        text-align: right;\n",
       "    }\n",
       "</style>\n",
       "<table border=\"1\" class=\"dataframe\">\n",
       "  <thead>\n",
       "    <tr style=\"text-align: right;\">\n",
       "      <th></th>\n",
       "      <th>id</th>\n",
       "    </tr>\n",
       "    <tr>\n",
       "      <th>group</th>\n",
       "      <th></th>\n",
       "    </tr>\n",
       "  </thead>\n",
       "  <tbody>\n",
       "    <tr>\n",
       "      <td>A1</td>\n",
       "      <td>2484</td>\n",
       "    </tr>\n",
       "    <tr>\n",
       "      <td>A2</td>\n",
       "      <td>2513</td>\n",
       "    </tr>\n",
       "    <tr>\n",
       "      <td>B</td>\n",
       "      <td>2537</td>\n",
       "    </tr>\n",
       "    <tr>\n",
       "      <td>A</td>\n",
       "      <td>4997</td>\n",
       "    </tr>\n",
       "  </tbody>\n",
       "</table>\n",
       "</div>"
      ],
      "text/plain": [
       "         id\n",
       "group      \n",
       "A1     2484\n",
       "A2     2513\n",
       "B      2537\n",
       "A      4997"
      ]
     },
     "execution_count": 24,
     "metadata": {},
     "output_type": "execute_result"
    }
   ],
   "source": [
    "df['group'] = df['group'].astype(str).str.replace('246', 'A1').str.replace('247', 'A2').str.replace('248', 'B')\n",
    "users = df.groupby('group').agg({'id':'nunique'})\n",
    "users.loc['A']= users.sum() - users.loc['B']\n",
    "users"
   ]
  },
  {
   "cell_type": "markdown",
   "metadata": {},
   "source": [
    "Расхождения между контрольными группами незначительные, можно продолжать.\n",
    "\n",
    "---\n",
    "\n",
    "Есть 2 контрольные группы для А/А-эксперимента, чтобы проверить корректность всех механизмов и расчётов. Посчитаем число пользователей, совершивших все события в каждой из контрольных групп. Уберем событие туториал, так как нас данное событие не интересует. Проверим, будет ли отличие между группами статистически достоверным."
   ]
  },
  {
   "cell_type": "code",
   "execution_count": 25,
   "metadata": {},
   "outputs": [
    {
     "data": {
      "text/html": [
       "<div>\n",
       "<style scoped>\n",
       "    .dataframe tbody tr th:only-of-type {\n",
       "        vertical-align: middle;\n",
       "    }\n",
       "\n",
       "    .dataframe tbody tr th {\n",
       "        vertical-align: top;\n",
       "    }\n",
       "\n",
       "    .dataframe thead th {\n",
       "        text-align: right;\n",
       "    }\n",
       "</style>\n",
       "<table border=\"1\" class=\"dataframe\">\n",
       "  <thead>\n",
       "    <tr style=\"text-align: right;\">\n",
       "      <th></th>\n",
       "      <th>A1</th>\n",
       "      <th>A2</th>\n",
       "      <th>B</th>\n",
       "      <th>A</th>\n",
       "    </tr>\n",
       "    <tr>\n",
       "      <th>event</th>\n",
       "      <th></th>\n",
       "      <th></th>\n",
       "      <th></th>\n",
       "      <th></th>\n",
       "    </tr>\n",
       "  </thead>\n",
       "  <tbody>\n",
       "    <tr>\n",
       "      <td>MainScreenAppear</td>\n",
       "      <td>2450</td>\n",
       "      <td>2476</td>\n",
       "      <td>2493</td>\n",
       "      <td>4926</td>\n",
       "    </tr>\n",
       "    <tr>\n",
       "      <td>OffersScreenAppear</td>\n",
       "      <td>1542</td>\n",
       "      <td>1520</td>\n",
       "      <td>1531</td>\n",
       "      <td>3062</td>\n",
       "    </tr>\n",
       "    <tr>\n",
       "      <td>CartScreenAppear</td>\n",
       "      <td>1266</td>\n",
       "      <td>1238</td>\n",
       "      <td>1230</td>\n",
       "      <td>2504</td>\n",
       "    </tr>\n",
       "    <tr>\n",
       "      <td>PaymentScreenSuccessful</td>\n",
       "      <td>1200</td>\n",
       "      <td>1158</td>\n",
       "      <td>1181</td>\n",
       "      <td>2358</td>\n",
       "    </tr>\n",
       "  </tbody>\n",
       "</table>\n",
       "</div>"
      ],
      "text/plain": [
       "                           A1    A2     B     A\n",
       "event                                          \n",
       "MainScreenAppear         2450  2476  2493  4926\n",
       "OffersScreenAppear       1542  1520  1531  3062\n",
       "CartScreenAppear         1266  1238  1230  2504\n",
       "PaymentScreenSuccessful  1200  1158  1181  2358"
      ]
     },
     "execution_count": 25,
     "metadata": {},
     "output_type": "execute_result"
    }
   ],
   "source": [
    "conversion = (df\n",
    "              .pivot_table(index = 'event',\n",
    "                           columns = 'group',\n",
    "                           values = 'id',\n",
    "                           aggfunc = 'nunique')\n",
    "              .rename_axis(None, axis=1)\n",
    "              .sort_values(by='A1', ascending=False)\n",
    "             )\n",
    "conversion['A'] = conversion['A1'] + conversion['A2']\n",
    "conversion=conversion.query('event != \"Tutorial\"')\n",
    "conversion"
   ]
  },
  {
   "cell_type": "markdown",
   "metadata": {},
   "source": [
    "Напишем функцию, для проверки статистический отличий между группами."
   ]
  },
  {
   "cell_type": "code",
   "execution_count": 26,
   "metadata": {},
   "outputs": [],
   "source": [
    "def z_test(group1, group2, event, alpha): \n",
    "    x1 = conversion.loc[event, group1]\n",
    "    x2 = conversion.loc[event, group2] \n",
    "    n1 = users.loc[group1, 'id'] \n",
    "    n2 = users.loc[group2, 'id'] \n",
    "    p1 = x1 / n1 \n",
    "    p2 = x2 / n2 \n",
    "    difference = p1 - p2\n",
    "    p_combined = (x1 + x2) / (n1 + n2) \n",
    "    z_value = difference / mth.sqrt(p_combined * (1 - p_combined) * (1 / n1 + 1 / n2))\n",
    "    distr = st.norm(0, 1)\n",
    "    p_value = (1 - distr.cdf(abs(z_value))) * 2\n",
    "    print('Проверка для групп {} и {}, событие: {}, p-значение: {p_value:.2f}'.format(group1, group2, event, p_value=p_value))\n",
    "    if (p_value < alpha):\n",
    "        print(\"Отвергаем нулевую гипотезу\")\n",
    "    else:\n",
    "        print(\"Не получилось отвергнуть нулевую гипотезу\")"
   ]
  },
  {
   "cell_type": "markdown",
   "metadata": {},
   "source": [
    "Здесь и далее будем считать  нулевую и альтернативную гипотезы следующими:\n",
    "\n",
    "- H0 - между долями НЕТ статистически значимых различий\n",
    "- H1 - между долями ЕСТЬ статистически значимые различия\n",
    "- Примем для себя уровень значимости alpha = 0.05 \n",
    "- Так как у нас происходит множественная проверка гипотез воспользуемся методом поправки Бонферрони и принятый уровень значимости alpha разделим на количество рассматриваемых гипотез(по 4 для каждого сравнения)"
   ]
  },
  {
   "cell_type": "code",
   "execution_count": 27,
   "metadata": {},
   "outputs": [
    {
     "name": "stdout",
     "output_type": "stream",
     "text": [
      "Проверка для групп A1 и A2, событие: MainScreenAppear, p-значение: 0.76\n",
      "Не получилось отвергнуть нулевую гипотезу\n",
      "\n",
      "Проверка для групп A1 и A2, событие: OffersScreenAppear, p-значение: 0.25\n",
      "Не получилось отвергнуть нулевую гипотезу\n",
      "\n",
      "Проверка для групп A1 и A2, событие: CartScreenAppear, p-значение: 0.23\n",
      "Не получилось отвергнуть нулевую гипотезу\n",
      "\n",
      "Проверка для групп A1 и A2, событие: PaymentScreenSuccessful, p-значение: 0.11\n",
      "Не получилось отвергнуть нулевую гипотезу\n",
      "\n"
     ]
    }
   ],
   "source": [
    "for event in conversion.index:\n",
    "    z_test('A1', 'A2', event, 0.05 / (conversion.shape[0] * 4))\n",
    "    print()"
   ]
  },
  {
   "cell_type": "markdown",
   "metadata": {},
   "source": [
    "Тест проведен корректно - статистически значимых различий между двумя А-группами не обнаружено.\n",
    "\n",
    "---\n",
    "\n",
    "Аналогично поступим с группой с изменённым шрифтом:\n",
    "- Сравним результаты с каждой из контрольных групп в отдельности по каждому событию. \n",
    "- Сравним результаты с объединённой контрольной группой."
   ]
  },
  {
   "cell_type": "code",
   "execution_count": 28,
   "metadata": {},
   "outputs": [
    {
     "name": "stdout",
     "output_type": "stream",
     "text": [
      "Проверка для групп A1 и B, событие: MainScreenAppear, p-значение: 0.29\n",
      "Не получилось отвергнуть нулевую гипотезу\n",
      "\n",
      "Проверка для групп A1 и B, событие: OffersScreenAppear, p-значение: 0.21\n",
      "Не получилось отвергнуть нулевую гипотезу\n",
      "\n",
      "Проверка для групп A1 и B, событие: CartScreenAppear, p-значение: 0.08\n",
      "Не получилось отвергнуть нулевую гипотезу\n",
      "\n",
      "Проверка для групп A1 и B, событие: PaymentScreenSuccessful, p-значение: 0.21\n",
      "Не получилось отвергнуть нулевую гипотезу\n",
      "\n"
     ]
    }
   ],
   "source": [
    "for event in conversion.index:\n",
    "    z_test('A1', 'B', event, 0.05 / (conversion.shape[0] * 4))\n",
    "    print()"
   ]
  },
  {
   "cell_type": "code",
   "execution_count": 29,
   "metadata": {},
   "outputs": [
    {
     "name": "stdout",
     "output_type": "stream",
     "text": [
      "Проверка для групп A2 и B, событие: MainScreenAppear, p-значение: 0.46\n",
      "Не получилось отвергнуть нулевую гипотезу\n",
      "\n",
      "Проверка для групп A2 и B, событие: OffersScreenAppear, p-значение: 0.92\n",
      "Не получилось отвергнуть нулевую гипотезу\n",
      "\n",
      "Проверка для групп A2 и B, событие: CartScreenAppear, p-значение: 0.58\n",
      "Не получилось отвергнуть нулевую гипотезу\n",
      "\n",
      "Проверка для групп A2 и B, событие: PaymentScreenSuccessful, p-значение: 0.74\n",
      "Не получилось отвергнуть нулевую гипотезу\n",
      "\n"
     ]
    }
   ],
   "source": [
    "for event in conversion.index:\n",
    "    z_test('A2', 'B', event, 0.05 / (conversion.shape[0] * 4))\n",
    "    print()"
   ]
  },
  {
   "cell_type": "code",
   "execution_count": 30,
   "metadata": {},
   "outputs": [
    {
     "name": "stdout",
     "output_type": "stream",
     "text": [
      "Проверка для групп A и B, событие: MainScreenAppear, p-значение: 0.29\n",
      "Не получилось отвергнуть нулевую гипотезу\n",
      "\n",
      "Проверка для групп A и B, событие: OffersScreenAppear, p-значение: 0.43\n",
      "Не получилось отвергнуть нулевую гипотезу\n",
      "\n",
      "Проверка для групп A и B, событие: CartScreenAppear, p-значение: 0.18\n",
      "Не получилось отвергнуть нулевую гипотезу\n",
      "\n",
      "Проверка для групп A и B, событие: PaymentScreenSuccessful, p-значение: 0.60\n",
      "Не получилось отвергнуть нулевую гипотезу\n",
      "\n"
     ]
    }
   ],
   "source": [
    "for event in conversion.index:\n",
    "    z_test('A', 'B', event, 0.05 / (conversion.shape[0] * 4))\n",
    "    print()"
   ]
  },
  {
   "cell_type": "markdown",
   "metadata": {},
   "source": [
    "Так как у нас происходила множественная проверка гипотез мы использовали метод поправки Бонферрони и принятый уровень значимости alpha был поделен на количество рассматриваемых гипотез по 4 для каждого сравнения, в общей сложности 16. \n",
    "\n",
    "При таком уровне значимости, ни в одном из проведенных тестов не нашлось статистически значимых различий.\n",
    "\n",
    "---\n",
    "\n",
    "## 5. Вывод\n",
    "\n",
    "Была проведена подготовка данных к анализу: поменяли названия столбцов на более удобные, удалили дубликаты и заменили типы данных там, где это необходимо.\n",
    "\n",
    "Изучив данные и проверив их, мы выяснили следующее: \n",
    "- В логе 5 типов событий;\n",
    "- Всего событий 243713;\n",
    "- Пользователей в логе 7551;\n",
    "- В среднем событий на пользователя 32.\n",
    "\n",
    "Было принято решение отбросить данные за первую неделю из-за их неполноты, при этом мы потеряли **17** пользователей, на которых приходилось **2926** события, что для нас приемлемо, так как в данных остались пользователи из всех трёх групп с незначительными расхождениями.\n",
    "\n",
    "Далее была изучена воронка событий, по которой можно сказать следующее:\n",
    "\n",
    "- Самым частым событием является появление Главного экрана, на него попадают **98.47%** от общего числа пользователей;\n",
    "- События происходят в таком порядке **MainScreenAppear - OffersScreenAppear - CartScreenAppear - PaymentScreenSuccessful**;\n",
    "- Больше всего пользователей теряется на первом шаге из главного экрана на экран предложения, а именно 38%;\n",
    "- Доля пользователей дошедших от первого события до успешной оплаты - 47,7%.\n",
    "\n",
    "Туториал не пользуется спросом у пользователей и это событие совершили лишь **11%** пользователей, поэтому это событие не представляет для нас ценность и мы его исключили из дальнейшего исследования.\n",
    "\n",
    "Вывод по результатам эксперимента: \n",
    "\n",
    "Тест можно считать успешным, мы выяснили что между группами **A** и **B** нет статистических различий, внесённые нами изменение шрифта на главной странице никак **не повлияли** на конверсию и на поведение пользователей. Поэтому не стоит применять эти изменения ко всему ресурсу - они не принесут никакой выгоды бизнесу. \n",
    "\n",
    "Учитывая что у нас данные только за одну неделю, стоит пособирать ещё данных и провести повторное сравнение экспериментальных групп, например за **2 недели**."
   ]
  },
  {
   "cell_type": "code",
   "execution_count": null,
   "metadata": {},
   "outputs": [],
   "source": []
  }
 ],
 "metadata": {
  "ExecuteTimeLog": [
   {
    "duration": 1889,
    "start_time": "2021-06-23T14:36:18.073Z"
   },
   {
    "duration": 248,
    "start_time": "2021-06-23T14:36:21.129Z"
   },
   {
    "duration": 31,
    "start_time": "2021-06-23T14:36:22.525Z"
   },
   {
    "duration": 51,
    "start_time": "2021-06-23T14:36:23.965Z"
   },
   {
    "duration": 132,
    "start_time": "2021-06-23T14:36:24.521Z"
   },
   {
    "duration": 126,
    "start_time": "2021-06-23T14:36:27.712Z"
   },
   {
    "duration": 15,
    "start_time": "2021-06-23T14:36:36.486Z"
   },
   {
    "duration": 484,
    "start_time": "2021-06-23T14:36:49.139Z"
   },
   {
    "duration": 20,
    "start_time": "2021-06-23T14:36:57.219Z"
   },
   {
    "duration": 9,
    "start_time": "2021-06-23T14:36:57.544Z"
   },
   {
    "duration": 9,
    "start_time": "2021-06-23T14:36:57.748Z"
   },
   {
    "duration": 12,
    "start_time": "2021-06-23T14:36:58.897Z"
   },
   {
    "duration": 977,
    "start_time": "2021-06-23T14:36:59.095Z"
   },
   {
    "duration": 29,
    "start_time": "2021-06-23T14:37:01.985Z"
   },
   {
    "duration": 18,
    "start_time": "2021-06-23T14:37:02.333Z"
   }
  ],
  "kernelspec": {
   "display_name": "Python 3",
   "language": "python",
   "name": "python3"
  },
  "language_info": {
   "codemirror_mode": {
    "name": "ipython",
    "version": 3
   },
   "file_extension": ".py",
   "mimetype": "text/x-python",
   "name": "python",
   "nbconvert_exporter": "python",
   "pygments_lexer": "ipython3",
   "version": "3.8.5"
  },
  "toc": {
   "base_numbering": 1,
   "nav_menu": {},
   "number_sections": false,
   "sideBar": true,
   "skip_h1_title": true,
   "title_cell": "Table of Contents",
   "title_sidebar": "Contents",
   "toc_cell": false,
   "toc_position": {},
   "toc_section_display": true,
   "toc_window_display": false
  }
 },
 "nbformat": 4,
 "nbformat_minor": 2
}
