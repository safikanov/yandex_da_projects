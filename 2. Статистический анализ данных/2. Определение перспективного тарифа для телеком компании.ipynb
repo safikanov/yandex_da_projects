{
 "cells": [
  {
   "cell_type": "markdown",
   "metadata": {},
   "source": [
    "# Определение перспективного тарифа для телеком компании"
   ]
  },
  {
   "cell_type": "markdown",
   "metadata": {},
   "source": [
    "Проведем предварительный анализ тарифов на небольшой выборке клиентов. В нашем распоряжении данные 500 пользователей «Мегалайна»: кто они, откуда, каким тарифом пользуются, сколько звонков и сообщений каждый отправил за 2018 год. Проанализируем поведение клиентов и сделаем вывод — какой тариф лучше."
   ]
  },
  {
   "cell_type": "markdown",
   "metadata": {},
   "source": [
    "### 1. Импортируем нужные нам библиотеки и прочитаем предоставленные данные. "
   ]
  },
  {
   "cell_type": "code",
   "execution_count": 1,
   "metadata": {},
   "outputs": [],
   "source": [
    "import pandas as pd\n",
    "import numpy as np\n",
    "from scipy import stats as st\n",
    "import matplotlib.pyplot as plt\n",
    "import seaborn as sns\n",
    "import warnings\n",
    "warnings.filterwarnings('ignore')"
   ]
  },
  {
   "cell_type": "code",
   "execution_count": 2,
   "metadata": {},
   "outputs": [],
   "source": [
    "users = pd.read_csv('/datasets/users.csv')\n",
    "calls = pd.read_csv('/datasets/calls.csv')\n",
    "messages = pd.read_csv('/datasets/messages.csv')\n",
    "internet = pd.read_csv('/datasets/internet.csv')\n",
    "tarif = pd.read_csv('/datasets/tariffs.csv')\n"
   ]
  },
  {
   "cell_type": "code",
   "execution_count": 22,
   "metadata": {
    "scrolled": false
   },
   "outputs": [
    {
     "name": "stdout",
     "output_type": "stream",
     "text": [
      "Данные таблицы calls\n"
     ]
    },
    {
     "data": {
      "text/html": [
       "<div>\n",
       "<style scoped>\n",
       "    .dataframe tbody tr th:only-of-type {\n",
       "        vertical-align: middle;\n",
       "    }\n",
       "\n",
       "    .dataframe tbody tr th {\n",
       "        vertical-align: top;\n",
       "    }\n",
       "\n",
       "    .dataframe thead th {\n",
       "        text-align: right;\n",
       "    }\n",
       "</style>\n",
       "<table border=\"1\" class=\"dataframe\">\n",
       "  <thead>\n",
       "    <tr style=\"text-align: right;\">\n",
       "      <th></th>\n",
       "      <th>id</th>\n",
       "      <th>call_date</th>\n",
       "      <th>duration</th>\n",
       "      <th>user_id</th>\n",
       "      <th>month</th>\n",
       "    </tr>\n",
       "  </thead>\n",
       "  <tbody>\n",
       "    <tr>\n",
       "      <td>0</td>\n",
       "      <td>1000_0</td>\n",
       "      <td>2018-07-25</td>\n",
       "      <td>0</td>\n",
       "      <td>1000</td>\n",
       "      <td>7</td>\n",
       "    </tr>\n",
       "    <tr>\n",
       "      <td>1</td>\n",
       "      <td>1000_1</td>\n",
       "      <td>2018-08-17</td>\n",
       "      <td>0</td>\n",
       "      <td>1000</td>\n",
       "      <td>8</td>\n",
       "    </tr>\n",
       "    <tr>\n",
       "      <td>2</td>\n",
       "      <td>1000_2</td>\n",
       "      <td>2018-06-11</td>\n",
       "      <td>3</td>\n",
       "      <td>1000</td>\n",
       "      <td>6</td>\n",
       "    </tr>\n",
       "    <tr>\n",
       "      <td>3</td>\n",
       "      <td>1000_3</td>\n",
       "      <td>2018-09-21</td>\n",
       "      <td>14</td>\n",
       "      <td>1000</td>\n",
       "      <td>9</td>\n",
       "    </tr>\n",
       "    <tr>\n",
       "      <td>4</td>\n",
       "      <td>1000_4</td>\n",
       "      <td>2018-12-15</td>\n",
       "      <td>6</td>\n",
       "      <td>1000</td>\n",
       "      <td>12</td>\n",
       "    </tr>\n",
       "  </tbody>\n",
       "</table>\n",
       "</div>"
      ],
      "text/plain": [
       "       id   call_date  duration  user_id  month\n",
       "0  1000_0  2018-07-25         0     1000      7\n",
       "1  1000_1  2018-08-17         0     1000      8\n",
       "2  1000_2  2018-06-11         3     1000      6\n",
       "3  1000_3  2018-09-21        14     1000      9\n",
       "4  1000_4  2018-12-15         6     1000     12"
      ]
     },
     "metadata": {},
     "output_type": "display_data"
    },
    {
     "name": "stdout",
     "output_type": "stream",
     "text": [
      "<class 'pandas.core.frame.DataFrame'>\n",
      "RangeIndex: 202607 entries, 0 to 202606\n",
      "Data columns (total 5 columns):\n",
      "id           202607 non-null object\n",
      "call_date    202607 non-null object\n",
      "duration     202607 non-null int64\n",
      "user_id      202607 non-null int64\n",
      "month        202607 non-null int64\n",
      "dtypes: int64(3), object(2)\n",
      "memory usage: 7.7+ MB\n"
     ]
    },
    {
     "data": {
      "text/plain": [
       "None"
      ]
     },
     "metadata": {},
     "output_type": "display_data"
    },
    {
     "data": {
      "text/plain": [
       "0"
      ]
     },
     "metadata": {},
     "output_type": "display_data"
    },
    {
     "name": "stdout",
     "output_type": "stream",
     "text": [
      "Данные таблицы internet\n"
     ]
    },
    {
     "data": {
      "text/html": [
       "<div>\n",
       "<style scoped>\n",
       "    .dataframe tbody tr th:only-of-type {\n",
       "        vertical-align: middle;\n",
       "    }\n",
       "\n",
       "    .dataframe tbody tr th {\n",
       "        vertical-align: top;\n",
       "    }\n",
       "\n",
       "    .dataframe thead th {\n",
       "        text-align: right;\n",
       "    }\n",
       "</style>\n",
       "<table border=\"1\" class=\"dataframe\">\n",
       "  <thead>\n",
       "    <tr style=\"text-align: right;\">\n",
       "      <th></th>\n",
       "      <th>Unnamed: 0</th>\n",
       "      <th>id</th>\n",
       "      <th>mb_used</th>\n",
       "      <th>session_date</th>\n",
       "      <th>user_id</th>\n",
       "      <th>month</th>\n",
       "    </tr>\n",
       "  </thead>\n",
       "  <tbody>\n",
       "    <tr>\n",
       "      <td>0</td>\n",
       "      <td>0</td>\n",
       "      <td>1000_0</td>\n",
       "      <td>113</td>\n",
       "      <td>2018-11-25</td>\n",
       "      <td>1000</td>\n",
       "      <td>11</td>\n",
       "    </tr>\n",
       "    <tr>\n",
       "      <td>1</td>\n",
       "      <td>1</td>\n",
       "      <td>1000_1</td>\n",
       "      <td>1053</td>\n",
       "      <td>2018-09-07</td>\n",
       "      <td>1000</td>\n",
       "      <td>9</td>\n",
       "    </tr>\n",
       "    <tr>\n",
       "      <td>2</td>\n",
       "      <td>2</td>\n",
       "      <td>1000_2</td>\n",
       "      <td>1198</td>\n",
       "      <td>2018-06-25</td>\n",
       "      <td>1000</td>\n",
       "      <td>6</td>\n",
       "    </tr>\n",
       "    <tr>\n",
       "      <td>3</td>\n",
       "      <td>3</td>\n",
       "      <td>1000_3</td>\n",
       "      <td>551</td>\n",
       "      <td>2018-08-22</td>\n",
       "      <td>1000</td>\n",
       "      <td>8</td>\n",
       "    </tr>\n",
       "    <tr>\n",
       "      <td>4</td>\n",
       "      <td>4</td>\n",
       "      <td>1000_4</td>\n",
       "      <td>303</td>\n",
       "      <td>2018-09-24</td>\n",
       "      <td>1000</td>\n",
       "      <td>9</td>\n",
       "    </tr>\n",
       "  </tbody>\n",
       "</table>\n",
       "</div>"
      ],
      "text/plain": [
       "   Unnamed: 0      id  mb_used session_date  user_id  month\n",
       "0           0  1000_0      113   2018-11-25     1000     11\n",
       "1           1  1000_1     1053   2018-09-07     1000      9\n",
       "2           2  1000_2     1198   2018-06-25     1000      6\n",
       "3           3  1000_3      551   2018-08-22     1000      8\n",
       "4           4  1000_4      303   2018-09-24     1000      9"
      ]
     },
     "metadata": {},
     "output_type": "display_data"
    },
    {
     "name": "stdout",
     "output_type": "stream",
     "text": [
      "<class 'pandas.core.frame.DataFrame'>\n",
      "RangeIndex: 149396 entries, 0 to 149395\n",
      "Data columns (total 6 columns):\n",
      "Unnamed: 0      149396 non-null int64\n",
      "id              149396 non-null object\n",
      "mb_used         149396 non-null int64\n",
      "session_date    149396 non-null object\n",
      "user_id         149396 non-null int64\n",
      "month           149396 non-null int64\n",
      "dtypes: int64(4), object(2)\n",
      "memory usage: 6.8+ MB\n"
     ]
    },
    {
     "data": {
      "text/plain": [
       "None"
      ]
     },
     "metadata": {},
     "output_type": "display_data"
    },
    {
     "data": {
      "text/plain": [
       "0"
      ]
     },
     "metadata": {},
     "output_type": "display_data"
    },
    {
     "name": "stdout",
     "output_type": "stream",
     "text": [
      "Данные таблицы messages\n"
     ]
    },
    {
     "data": {
      "text/html": [
       "<div>\n",
       "<style scoped>\n",
       "    .dataframe tbody tr th:only-of-type {\n",
       "        vertical-align: middle;\n",
       "    }\n",
       "\n",
       "    .dataframe tbody tr th {\n",
       "        vertical-align: top;\n",
       "    }\n",
       "\n",
       "    .dataframe thead th {\n",
       "        text-align: right;\n",
       "    }\n",
       "</style>\n",
       "<table border=\"1\" class=\"dataframe\">\n",
       "  <thead>\n",
       "    <tr style=\"text-align: right;\">\n",
       "      <th></th>\n",
       "      <th>id</th>\n",
       "      <th>message_date</th>\n",
       "      <th>user_id</th>\n",
       "      <th>month</th>\n",
       "    </tr>\n",
       "  </thead>\n",
       "  <tbody>\n",
       "    <tr>\n",
       "      <td>0</td>\n",
       "      <td>1000_0</td>\n",
       "      <td>2018-06-27</td>\n",
       "      <td>1000</td>\n",
       "      <td>6</td>\n",
       "    </tr>\n",
       "    <tr>\n",
       "      <td>1</td>\n",
       "      <td>1000_1</td>\n",
       "      <td>2018-10-08</td>\n",
       "      <td>1000</td>\n",
       "      <td>10</td>\n",
       "    </tr>\n",
       "    <tr>\n",
       "      <td>2</td>\n",
       "      <td>1000_2</td>\n",
       "      <td>2018-08-04</td>\n",
       "      <td>1000</td>\n",
       "      <td>8</td>\n",
       "    </tr>\n",
       "    <tr>\n",
       "      <td>3</td>\n",
       "      <td>1000_3</td>\n",
       "      <td>2018-06-16</td>\n",
       "      <td>1000</td>\n",
       "      <td>6</td>\n",
       "    </tr>\n",
       "    <tr>\n",
       "      <td>4</td>\n",
       "      <td>1000_4</td>\n",
       "      <td>2018-12-05</td>\n",
       "      <td>1000</td>\n",
       "      <td>12</td>\n",
       "    </tr>\n",
       "  </tbody>\n",
       "</table>\n",
       "</div>"
      ],
      "text/plain": [
       "       id message_date  user_id  month\n",
       "0  1000_0   2018-06-27     1000      6\n",
       "1  1000_1   2018-10-08     1000     10\n",
       "2  1000_2   2018-08-04     1000      8\n",
       "3  1000_3   2018-06-16     1000      6\n",
       "4  1000_4   2018-12-05     1000     12"
      ]
     },
     "metadata": {},
     "output_type": "display_data"
    },
    {
     "name": "stdout",
     "output_type": "stream",
     "text": [
      "<class 'pandas.core.frame.DataFrame'>\n",
      "RangeIndex: 123036 entries, 0 to 123035\n",
      "Data columns (total 4 columns):\n",
      "id              123036 non-null object\n",
      "message_date    123036 non-null object\n",
      "user_id         123036 non-null int64\n",
      "month           123036 non-null int64\n",
      "dtypes: int64(2), object(2)\n",
      "memory usage: 3.8+ MB\n"
     ]
    },
    {
     "data": {
      "text/plain": [
       "None"
      ]
     },
     "metadata": {},
     "output_type": "display_data"
    },
    {
     "data": {
      "text/plain": [
       "0"
      ]
     },
     "metadata": {},
     "output_type": "display_data"
    },
    {
     "name": "stdout",
     "output_type": "stream",
     "text": [
      "Данные таблицы users\n"
     ]
    },
    {
     "data": {
      "text/html": [
       "<div>\n",
       "<style scoped>\n",
       "    .dataframe tbody tr th:only-of-type {\n",
       "        vertical-align: middle;\n",
       "    }\n",
       "\n",
       "    .dataframe tbody tr th {\n",
       "        vertical-align: top;\n",
       "    }\n",
       "\n",
       "    .dataframe thead th {\n",
       "        text-align: right;\n",
       "    }\n",
       "</style>\n",
       "<table border=\"1\" class=\"dataframe\">\n",
       "  <thead>\n",
       "    <tr style=\"text-align: right;\">\n",
       "      <th></th>\n",
       "      <th>user_id</th>\n",
       "      <th>age</th>\n",
       "      <th>churn_date</th>\n",
       "      <th>city</th>\n",
       "      <th>first_name</th>\n",
       "      <th>last_name</th>\n",
       "      <th>reg_date</th>\n",
       "      <th>tariff</th>\n",
       "    </tr>\n",
       "  </thead>\n",
       "  <tbody>\n",
       "    <tr>\n",
       "      <td>0</td>\n",
       "      <td>1000</td>\n",
       "      <td>52</td>\n",
       "      <td>NaN</td>\n",
       "      <td>Краснодар</td>\n",
       "      <td>Рафаил</td>\n",
       "      <td>Верещагин</td>\n",
       "      <td>2018-05-25</td>\n",
       "      <td>ultra</td>\n",
       "    </tr>\n",
       "    <tr>\n",
       "      <td>1</td>\n",
       "      <td>1001</td>\n",
       "      <td>41</td>\n",
       "      <td>NaN</td>\n",
       "      <td>Москва</td>\n",
       "      <td>Иван</td>\n",
       "      <td>Ежов</td>\n",
       "      <td>2018-11-01</td>\n",
       "      <td>smart</td>\n",
       "    </tr>\n",
       "    <tr>\n",
       "      <td>2</td>\n",
       "      <td>1002</td>\n",
       "      <td>59</td>\n",
       "      <td>NaN</td>\n",
       "      <td>Стерлитамак</td>\n",
       "      <td>Евгений</td>\n",
       "      <td>Абрамович</td>\n",
       "      <td>2018-06-17</td>\n",
       "      <td>smart</td>\n",
       "    </tr>\n",
       "    <tr>\n",
       "      <td>3</td>\n",
       "      <td>1003</td>\n",
       "      <td>23</td>\n",
       "      <td>NaN</td>\n",
       "      <td>Москва</td>\n",
       "      <td>Белла</td>\n",
       "      <td>Белякова</td>\n",
       "      <td>2018-08-17</td>\n",
       "      <td>ultra</td>\n",
       "    </tr>\n",
       "    <tr>\n",
       "      <td>4</td>\n",
       "      <td>1004</td>\n",
       "      <td>68</td>\n",
       "      <td>NaN</td>\n",
       "      <td>Новокузнецк</td>\n",
       "      <td>Татьяна</td>\n",
       "      <td>Авдеенко</td>\n",
       "      <td>2018-05-14</td>\n",
       "      <td>ultra</td>\n",
       "    </tr>\n",
       "  </tbody>\n",
       "</table>\n",
       "</div>"
      ],
      "text/plain": [
       "   user_id  age churn_date         city first_name  last_name    reg_date  \\\n",
       "0     1000   52        NaN    Краснодар     Рафаил  Верещагин  2018-05-25   \n",
       "1     1001   41        NaN       Москва       Иван       Ежов  2018-11-01   \n",
       "2     1002   59        NaN  Стерлитамак    Евгений  Абрамович  2018-06-17   \n",
       "3     1003   23        NaN       Москва      Белла   Белякова  2018-08-17   \n",
       "4     1004   68        NaN  Новокузнецк    Татьяна   Авдеенко  2018-05-14   \n",
       "\n",
       "  tariff  \n",
       "0  ultra  \n",
       "1  smart  \n",
       "2  smart  \n",
       "3  ultra  \n",
       "4  ultra  "
      ]
     },
     "metadata": {},
     "output_type": "display_data"
    },
    {
     "name": "stdout",
     "output_type": "stream",
     "text": [
      "<class 'pandas.core.frame.DataFrame'>\n",
      "RangeIndex: 500 entries, 0 to 499\n",
      "Data columns (total 8 columns):\n",
      "user_id       500 non-null int64\n",
      "age           500 non-null int64\n",
      "churn_date    38 non-null object\n",
      "city          500 non-null object\n",
      "first_name    500 non-null object\n",
      "last_name     500 non-null object\n",
      "reg_date      500 non-null object\n",
      "tariff        500 non-null object\n",
      "dtypes: int64(2), object(6)\n",
      "memory usage: 31.4+ KB\n"
     ]
    },
    {
     "data": {
      "text/plain": [
       "None"
      ]
     },
     "metadata": {},
     "output_type": "display_data"
    },
    {
     "data": {
      "text/plain": [
       "0"
      ]
     },
     "metadata": {},
     "output_type": "display_data"
    },
    {
     "name": "stdout",
     "output_type": "stream",
     "text": [
      "Данные таблицы tarif\n"
     ]
    },
    {
     "data": {
      "text/html": [
       "<div>\n",
       "<style scoped>\n",
       "    .dataframe tbody tr th:only-of-type {\n",
       "        vertical-align: middle;\n",
       "    }\n",
       "\n",
       "    .dataframe tbody tr th {\n",
       "        vertical-align: top;\n",
       "    }\n",
       "\n",
       "    .dataframe thead th {\n",
       "        text-align: right;\n",
       "    }\n",
       "</style>\n",
       "<table border=\"1\" class=\"dataframe\">\n",
       "  <thead>\n",
       "    <tr style=\"text-align: right;\">\n",
       "      <th></th>\n",
       "      <th>messages_included</th>\n",
       "      <th>mb_per_month_included</th>\n",
       "      <th>minutes_included</th>\n",
       "      <th>rub_monthly_fee</th>\n",
       "      <th>rub_per_gb</th>\n",
       "      <th>rub_per_message</th>\n",
       "      <th>rub_per_minute</th>\n",
       "      <th>tariff_name</th>\n",
       "    </tr>\n",
       "  </thead>\n",
       "  <tbody>\n",
       "    <tr>\n",
       "      <td>0</td>\n",
       "      <td>50</td>\n",
       "      <td>15360</td>\n",
       "      <td>500</td>\n",
       "      <td>550</td>\n",
       "      <td>200</td>\n",
       "      <td>3</td>\n",
       "      <td>3</td>\n",
       "      <td>smart</td>\n",
       "    </tr>\n",
       "    <tr>\n",
       "      <td>1</td>\n",
       "      <td>1000</td>\n",
       "      <td>30720</td>\n",
       "      <td>3000</td>\n",
       "      <td>1950</td>\n",
       "      <td>150</td>\n",
       "      <td>1</td>\n",
       "      <td>1</td>\n",
       "      <td>ultra</td>\n",
       "    </tr>\n",
       "  </tbody>\n",
       "</table>\n",
       "</div>"
      ],
      "text/plain": [
       "   messages_included  mb_per_month_included  minutes_included  \\\n",
       "0                 50                  15360               500   \n",
       "1               1000                  30720              3000   \n",
       "\n",
       "   rub_monthly_fee  rub_per_gb  rub_per_message  rub_per_minute tariff_name  \n",
       "0              550         200                3               3       smart  \n",
       "1             1950         150                1               1       ultra  "
      ]
     },
     "metadata": {},
     "output_type": "display_data"
    },
    {
     "name": "stdout",
     "output_type": "stream",
     "text": [
      "<class 'pandas.core.frame.DataFrame'>\n",
      "RangeIndex: 2 entries, 0 to 1\n",
      "Data columns (total 8 columns):\n",
      "messages_included        2 non-null int64\n",
      "mb_per_month_included    2 non-null int64\n",
      "minutes_included         2 non-null int64\n",
      "rub_monthly_fee          2 non-null int64\n",
      "rub_per_gb               2 non-null int64\n",
      "rub_per_message          2 non-null int64\n",
      "rub_per_minute           2 non-null int64\n",
      "tariff_name              2 non-null object\n",
      "dtypes: int64(7), object(1)\n",
      "memory usage: 256.0+ bytes\n"
     ]
    },
    {
     "data": {
      "text/plain": [
       "None"
      ]
     },
     "metadata": {},
     "output_type": "display_data"
    },
    {
     "data": {
      "text/plain": [
       "0"
      ]
     },
     "metadata": {},
     "output_type": "display_data"
    }
   ],
   "source": [
    "df_list = {'calls': calls, 'internet':internet, 'messages':messages, 'users':users, 'tarif':tarif}\n",
    "for df in df_list:\n",
    "    print('Данные таблицы {}'.format(df))\n",
    "    display(df_list[df].head())\n",
    "    display(df_list[df].info())\n",
    "    display(df_list[df].duplicated().sum())"
   ]
  },
  {
   "cell_type": "markdown",
   "metadata": {},
   "source": [
    "Прочитав данные видно, что дупликатов нет ни в одной из предоставленных таблиц.\n",
    "\n",
    "Для таблицы calls, нужно окгруглить значения столбца duration в большую сторону и сменить тип данных на int.\n",
    "\n",
    "Для таблицы internet, нужно окгруглить значения столбца mb_used в большую сторону и сменить тип данных на int. Есть лишний столбец Unnamed:0, его мы трогать не будем, он нам не понадобится в дальнейшем.\n",
    "\n",
    "Для таблицы users, много пропусков в столбце churn_date, с ним работать не будем, поэтому оставим все как есть.\n",
    "\n"
   ]
  },
  {
   "cell_type": "markdown",
   "metadata": {},
   "source": [
    "### Шаг 2. Подготовка данных"
   ]
  },
  {
   "cell_type": "markdown",
   "metadata": {},
   "source": [
    "Сделаем преобразования для таблицы calls и internet в столбцах 'duration' и 'mb_used' соответсвенно. "
   ]
  },
  {
   "cell_type": "code",
   "execution_count": 4,
   "metadata": {},
   "outputs": [],
   "source": [
    "calls['duration'] = calls['duration'].apply(np.ceil).astype(int)\n",
    "internet['mb_used'] = internet['mb_used'].apply(np.ceil).astype(int)"
   ]
  },
  {
   "cell_type": "markdown",
   "metadata": {},
   "source": [
    "Добавим в предоставленные таблицы новый столбец, месяц совершения операции. После этого сгруппируем каждую табличку по id абонента и месяцу. Объединим полученные данные в одну таблицу, после этого, присоединим эту таблицу с таблицей с данными о пользователях и их тарифах."
   ]
  },
  {
   "cell_type": "code",
   "execution_count": 5,
   "metadata": {},
   "outputs": [],
   "source": [
    "calls['month'] = pd.to_datetime(calls['call_date']).dt.month\n",
    "messages['month'] = pd.to_datetime(messages['message_date']).dt.month\n",
    "internet['month'] = pd.to_datetime(internet['session_date']).dt.month\n"
   ]
  },
  {
   "cell_type": "code",
   "execution_count": 6,
   "metadata": {},
   "outputs": [],
   "source": [
    "calls_grouped = calls.groupby(['user_id', 'month']).agg({'duration':'sum'}).reset_index().rename(columns={'duration':'minutes_used'})\n",
    "messages_grouped = messages.groupby(['user_id', 'month']).agg({'id':'count'}).reset_index().rename(columns={'id':'message_used'})\n",
    "internet_grouped = internet.groupby(['user_id', 'month']).agg({'mb_used':'sum'}).reset_index()\n"
   ]
  },
  {
   "cell_type": "code",
   "execution_count": 7,
   "metadata": {},
   "outputs": [],
   "source": [
    "data = users.merge(tarif, left_on='tariff', right_on='tariff_name', how='left')\n",
    "group = messages_grouped.merge(calls_grouped, on=['user_id','month'], how='outer')\n",
    "group = group.merge(internet_grouped, on=['user_id', 'month'], how='outer')\n",
    "data = data.merge(group, on='user_id', how='left')"
   ]
  },
  {
   "cell_type": "code",
   "execution_count": 8,
   "metadata": {},
   "outputs": [
    {
     "name": "stdout",
     "output_type": "stream",
     "text": [
      "<class 'pandas.core.frame.DataFrame'>\n",
      "Int64Index: 3216 entries, 0 to 3215\n",
      "Data columns (total 20 columns):\n",
      "user_id                  3216 non-null int64\n",
      "age                      3216 non-null int64\n",
      "churn_date               189 non-null object\n",
      "city                     3216 non-null object\n",
      "first_name               3216 non-null object\n",
      "last_name                3216 non-null object\n",
      "reg_date                 3216 non-null object\n",
      "tariff                   3216 non-null object\n",
      "messages_included        3216 non-null int64\n",
      "mb_per_month_included    3216 non-null int64\n",
      "minutes_included         3216 non-null int64\n",
      "rub_monthly_fee          3216 non-null int64\n",
      "rub_per_gb               3216 non-null int64\n",
      "rub_per_message          3216 non-null int64\n",
      "rub_per_minute           3216 non-null int64\n",
      "tariff_name              3216 non-null object\n",
      "month                    3214 non-null float64\n",
      "message_used             2717 non-null float64\n",
      "minutes_used             3174 non-null float64\n",
      "mb_used                  3203 non-null float64\n",
      "dtypes: float64(4), int64(9), object(7)\n",
      "memory usage: 527.6+ KB\n"
     ]
    },
    {
     "data": {
      "text/plain": [
       "user_id                  0.000000\n",
       "age                      0.000000\n",
       "churn_date               0.941231\n",
       "city                     0.000000\n",
       "first_name               0.000000\n",
       "last_name                0.000000\n",
       "reg_date                 0.000000\n",
       "tariff                   0.000000\n",
       "messages_included        0.000000\n",
       "mb_per_month_included    0.000000\n",
       "minutes_included         0.000000\n",
       "rub_monthly_fee          0.000000\n",
       "rub_per_gb               0.000000\n",
       "rub_per_message          0.000000\n",
       "rub_per_minute           0.000000\n",
       "tariff_name              0.000000\n",
       "month                    0.000622\n",
       "message_used             0.155162\n",
       "minutes_used             0.013060\n",
       "mb_used                  0.004042\n",
       "dtype: float64"
      ]
     },
     "execution_count": 8,
     "metadata": {},
     "output_type": "execute_result"
    }
   ],
   "source": [
    "data.info()\n",
    "data.isna().mean()"
   ]
  },
  {
   "cell_type": "markdown",
   "metadata": {},
   "source": [
    "В полученной таблице есть пропущенные значения в столбцах month, message_used, minutes_used, mb_used и нужно заменить некоторые типы данных.\n",
    "\n",
    "---"
   ]
  },
  {
   "cell_type": "markdown",
   "metadata": {},
   "source": [
    "В столбце month, есть два пропущенных значения. Взглянув на них видно, что данные абоненты зарегистрировались, но так и не воспользовались ни одной из услуг, и расторгли договор. Эти значения мы уберем из таблицы."
   ]
  },
  {
   "cell_type": "code",
   "execution_count": 9,
   "metadata": {},
   "outputs": [],
   "source": [
    "data.loc[data['month'].isna()]\n",
    "data = data.dropna(subset=['month']).reset_index(drop=True)"
   ]
  },
  {
   "cell_type": "markdown",
   "metadata": {},
   "source": [
    "---\n",
    "\n",
    "В таблице остались пропущенные значения в столбцах с количеством использованных сообщений, минут и mb. Вероятнее всего, пропуски обозначают отсутсвие их использования."
   ]
  },
  {
   "cell_type": "code",
   "execution_count": 10,
   "metadata": {},
   "outputs": [],
   "source": [
    "data = data.fillna({'message_used': 0, 'minutes_used': 0, 'mb_used': 0})"
   ]
  },
  {
   "cell_type": "markdown",
   "metadata": {},
   "source": [
    "---\n",
    "\n",
    "При объединении у нас осталось в таблице два столбца с названием используемого тарифа, уберем один из них."
   ]
  },
  {
   "cell_type": "code",
   "execution_count": 11,
   "metadata": {},
   "outputs": [],
   "source": [
    "data.drop('tariff', axis=1, inplace=True)"
   ]
  },
  {
   "cell_type": "markdown",
   "metadata": {},
   "source": [
    "---\n",
    "\n",
    "Заменим типы данных в столбцах month, message_used, minutes_used, mb_used с float на int."
   ]
  },
  {
   "cell_type": "code",
   "execution_count": 12,
   "metadata": {},
   "outputs": [],
   "source": [
    "def type_changer (column):\n",
    "    data[column] = data[column].astype(int)\n",
    "type_changer('month')\n",
    "type_changer('message_used')\n",
    "type_changer('minutes_used')\n",
    "type_changer('mb_used')"
   ]
  },
  {
   "cell_type": "markdown",
   "metadata": {},
   "source": [
    "---\n",
    "\n",
    "Для дальнейших рассчетов нам понадобится новые столбцы, с преобразованными данными использования интернета из mb в gb."
   ]
  },
  {
   "cell_type": "code",
   "execution_count": 13,
   "metadata": {},
   "outputs": [],
   "source": [
    "data['gb_used'] = (data['mb_used'] / 1024).apply(np.ceil).astype(int)\n",
    "data['gb_included'] = (data['mb_per_month_included'] / 1024).astype(int)"
   ]
  },
  {
   "cell_type": "markdown",
   "metadata": {},
   "source": [
    "Найдем помесячную выручки с каждого пользователя."
   ]
  },
  {
   "cell_type": "code",
   "execution_count": 14,
   "metadata": {
    "scrolled": false
   },
   "outputs": [],
   "source": [
    "data['gb_over'] = (data['gb_used'] - data['gb_included']) * data['rub_per_gb']\n",
    "data.loc[data['gb_over'] < 0, 'gb_over'] = 0\n",
    "data['message_over'] = (data['message_used'] - data['messages_included']) * data['rub_per_message']\n",
    "data.loc[data['message_over'] < 0, 'message_over'] = 0\n",
    "data['minutes_over'] = (data['minutes_used'] - data['minutes_included']) * data['rub_per_minute']\n",
    "data.loc[data['minutes_over'] < 0, 'minutes_over'] = 0\n",
    "data['profit'] = data['gb_over'] + data['message_over'] + data['minutes_over'] + data['rub_monthly_fee']"
   ]
  },
  {
   "cell_type": "markdown",
   "metadata": {},
   "source": [
    "---\n",
    "\n",
    "### Шаг 3. Проанализируйте данные"
   ]
  },
  {
   "cell_type": "markdown",
   "metadata": {},
   "source": [
    "Сколько минут разговора, сколько сообщений и какой объём интернет-трафика требуется пользователям каждого тарифа в месяц? Посчитайте среднее количество, дисперсию и стандартное отклонение. Постройте гистограммы. Опишите распределения."
   ]
  },
  {
   "cell_type": "code",
   "execution_count": 15,
   "metadata": {
    "scrolled": false
   },
   "outputs": [
    {
     "data": {
      "text/html": [
       "<style  type=\"text/css\" >\n",
       "</style><table id=\"T_97c78854_7a7f_11eb_99ef_02420a39dcc5\" ><thead>    <tr>        <th class=\"blank\" ></th>        <th class=\"index_name level0\" >tariff_name</th>        <th class=\"col_heading level0 col0\" >smart</th>        <th class=\"col_heading level0 col1\" >ultra</th>    </tr></thead><tbody>\n",
       "                <tr>\n",
       "                        <th id=\"T_97c78854_7a7f_11eb_99ef_02420a39dcc5level0_row0\" class=\"row_heading level0 row0\" rowspan=5>gb_used</th>\n",
       "                        <th id=\"T_97c78854_7a7f_11eb_99ef_02420a39dcc5level1_row0\" class=\"row_heading level1 row0\" >median</th>\n",
       "                        <td id=\"T_97c78854_7a7f_11eb_99ef_02420a39dcc5row0_col0\" class=\"data row0 col0\" >17.00</td>\n",
       "                        <td id=\"T_97c78854_7a7f_11eb_99ef_02420a39dcc5row0_col1\" class=\"data row0 col1\" >19.00</td>\n",
       "            </tr>\n",
       "            <tr>\n",
       "                                <th id=\"T_97c78854_7a7f_11eb_99ef_02420a39dcc5level1_row1\" class=\"row_heading level1 row1\" >mean</th>\n",
       "                        <td id=\"T_97c78854_7a7f_11eb_99ef_02420a39dcc5row1_col0\" class=\"data row1 col0\" >16.36</td>\n",
       "                        <td id=\"T_97c78854_7a7f_11eb_99ef_02420a39dcc5row1_col1\" class=\"data row1 col1\" >19.53</td>\n",
       "            </tr>\n",
       "            <tr>\n",
       "                                <th id=\"T_97c78854_7a7f_11eb_99ef_02420a39dcc5level1_row2\" class=\"row_heading level1 row2\" >var</th>\n",
       "                        <td id=\"T_97c78854_7a7f_11eb_99ef_02420a39dcc5row2_col0\" class=\"data row2 col0\" >33.16</td>\n",
       "                        <td id=\"T_97c78854_7a7f_11eb_99ef_02420a39dcc5row2_col1\" class=\"data row2 col1\" >97.33</td>\n",
       "            </tr>\n",
       "            <tr>\n",
       "                                <th id=\"T_97c78854_7a7f_11eb_99ef_02420a39dcc5level1_row3\" class=\"row_heading level1 row3\" >sum</th>\n",
       "                        <td id=\"T_97c78854_7a7f_11eb_99ef_02420a39dcc5row3_col0\" class=\"data row3 col0\" >36465.00</td>\n",
       "                        <td id=\"T_97c78854_7a7f_11eb_99ef_02420a39dcc5row3_col1\" class=\"data row3 col1\" >19233.00</td>\n",
       "            </tr>\n",
       "            <tr>\n",
       "                                <th id=\"T_97c78854_7a7f_11eb_99ef_02420a39dcc5level1_row4\" class=\"row_heading level1 row4\" >std</th>\n",
       "                        <td id=\"T_97c78854_7a7f_11eb_99ef_02420a39dcc5row4_col0\" class=\"data row4 col0\" >5.76</td>\n",
       "                        <td id=\"T_97c78854_7a7f_11eb_99ef_02420a39dcc5row4_col1\" class=\"data row4 col1\" >9.87</td>\n",
       "            </tr>\n",
       "            <tr>\n",
       "                        <th id=\"T_97c78854_7a7f_11eb_99ef_02420a39dcc5level0_row5\" class=\"row_heading level0 row5\" rowspan=5>message_used</th>\n",
       "                        <th id=\"T_97c78854_7a7f_11eb_99ef_02420a39dcc5level1_row5\" class=\"row_heading level1 row5\" >median</th>\n",
       "                        <td id=\"T_97c78854_7a7f_11eb_99ef_02420a39dcc5row5_col0\" class=\"data row5 col0\" >28.00</td>\n",
       "                        <td id=\"T_97c78854_7a7f_11eb_99ef_02420a39dcc5row5_col1\" class=\"data row5 col1\" >38.00</td>\n",
       "            </tr>\n",
       "            <tr>\n",
       "                                <th id=\"T_97c78854_7a7f_11eb_99ef_02420a39dcc5level1_row6\" class=\"row_heading level1 row6\" >mean</th>\n",
       "                        <td id=\"T_97c78854_7a7f_11eb_99ef_02420a39dcc5row6_col0\" class=\"data row6 col0\" >33.38</td>\n",
       "                        <td id=\"T_97c78854_7a7f_11eb_99ef_02420a39dcc5row6_col1\" class=\"data row6 col1\" >49.36</td>\n",
       "            </tr>\n",
       "            <tr>\n",
       "                                <th id=\"T_97c78854_7a7f_11eb_99ef_02420a39dcc5level1_row7\" class=\"row_heading level1 row7\" >var</th>\n",
       "                        <td id=\"T_97c78854_7a7f_11eb_99ef_02420a39dcc5row7_col0\" class=\"data row7 col0\" >796.81</td>\n",
       "                        <td id=\"T_97c78854_7a7f_11eb_99ef_02420a39dcc5row7_col1\" class=\"data row7 col1\" >2285.27</td>\n",
       "            </tr>\n",
       "            <tr>\n",
       "                                <th id=\"T_97c78854_7a7f_11eb_99ef_02420a39dcc5level1_row8\" class=\"row_heading level1 row8\" >sum</th>\n",
       "                        <td id=\"T_97c78854_7a7f_11eb_99ef_02420a39dcc5row8_col0\" class=\"data row8 col0\" >74413.00</td>\n",
       "                        <td id=\"T_97c78854_7a7f_11eb_99ef_02420a39dcc5row8_col1\" class=\"data row8 col1\" >48623.00</td>\n",
       "            </tr>\n",
       "            <tr>\n",
       "                                <th id=\"T_97c78854_7a7f_11eb_99ef_02420a39dcc5level1_row9\" class=\"row_heading level1 row9\" >std</th>\n",
       "                        <td id=\"T_97c78854_7a7f_11eb_99ef_02420a39dcc5row9_col0\" class=\"data row9 col0\" >28.23</td>\n",
       "                        <td id=\"T_97c78854_7a7f_11eb_99ef_02420a39dcc5row9_col1\" class=\"data row9 col1\" >47.80</td>\n",
       "            </tr>\n",
       "            <tr>\n",
       "                        <th id=\"T_97c78854_7a7f_11eb_99ef_02420a39dcc5level0_row10\" class=\"row_heading level0 row10\" rowspan=5>minutes_used</th>\n",
       "                        <th id=\"T_97c78854_7a7f_11eb_99ef_02420a39dcc5level1_row10\" class=\"row_heading level1 row10\" >median</th>\n",
       "                        <td id=\"T_97c78854_7a7f_11eb_99ef_02420a39dcc5row10_col0\" class=\"data row10 col0\" >422.00</td>\n",
       "                        <td id=\"T_97c78854_7a7f_11eb_99ef_02420a39dcc5row10_col1\" class=\"data row10 col1\" >518.00</td>\n",
       "            </tr>\n",
       "            <tr>\n",
       "                                <th id=\"T_97c78854_7a7f_11eb_99ef_02420a39dcc5level1_row11\" class=\"row_heading level1 row11\" >mean</th>\n",
       "                        <td id=\"T_97c78854_7a7f_11eb_99ef_02420a39dcc5row11_col0\" class=\"data row11 col0\" >417.93</td>\n",
       "                        <td id=\"T_97c78854_7a7f_11eb_99ef_02420a39dcc5row11_col1\" class=\"data row11 col1\" >526.62</td>\n",
       "            </tr>\n",
       "            <tr>\n",
       "                                <th id=\"T_97c78854_7a7f_11eb_99ef_02420a39dcc5level1_row12\" class=\"row_heading level1 row12\" >var</th>\n",
       "                        <td id=\"T_97c78854_7a7f_11eb_99ef_02420a39dcc5row12_col0\" class=\"data row12 col0\" >36219.32</td>\n",
       "                        <td id=\"T_97c78854_7a7f_11eb_99ef_02420a39dcc5row12_col1\" class=\"data row12 col1\" >100873.63</td>\n",
       "            </tr>\n",
       "            <tr>\n",
       "                                <th id=\"T_97c78854_7a7f_11eb_99ef_02420a39dcc5level1_row13\" class=\"row_heading level1 row13\" >sum</th>\n",
       "                        <td id=\"T_97c78854_7a7f_11eb_99ef_02420a39dcc5row13_col0\" class=\"data row13 col0\" >931577.00</td>\n",
       "                        <td id=\"T_97c78854_7a7f_11eb_99ef_02420a39dcc5row13_col1\" class=\"data row13 col1\" >518724.00</td>\n",
       "            </tr>\n",
       "            <tr>\n",
       "                                <th id=\"T_97c78854_7a7f_11eb_99ef_02420a39dcc5level1_row14\" class=\"row_heading level1 row14\" >std</th>\n",
       "                        <td id=\"T_97c78854_7a7f_11eb_99ef_02420a39dcc5row14_col0\" class=\"data row14 col0\" >190.31</td>\n",
       "                        <td id=\"T_97c78854_7a7f_11eb_99ef_02420a39dcc5row14_col1\" class=\"data row14 col1\" >317.61</td>\n",
       "            </tr>\n",
       "            <tr>\n",
       "                        <th id=\"T_97c78854_7a7f_11eb_99ef_02420a39dcc5level0_row15\" class=\"row_heading level0 row15\" rowspan=5>profit</th>\n",
       "                        <th id=\"T_97c78854_7a7f_11eb_99ef_02420a39dcc5level1_row15\" class=\"row_heading level1 row15\" >median</th>\n",
       "                        <td id=\"T_97c78854_7a7f_11eb_99ef_02420a39dcc5row15_col0\" class=\"data row15 col0\" >1038.00</td>\n",
       "                        <td id=\"T_97c78854_7a7f_11eb_99ef_02420a39dcc5row15_col1\" class=\"data row15 col1\" >1950.00</td>\n",
       "            </tr>\n",
       "            <tr>\n",
       "                                <th id=\"T_97c78854_7a7f_11eb_99ef_02420a39dcc5level1_row16\" class=\"row_heading level1 row16\" >mean</th>\n",
       "                        <td id=\"T_97c78854_7a7f_11eb_99ef_02420a39dcc5row16_col0\" class=\"data row16 col0\" >1294.64</td>\n",
       "                        <td id=\"T_97c78854_7a7f_11eb_99ef_02420a39dcc5row16_col1\" class=\"data row16 col1\" >2071.07</td>\n",
       "            </tr>\n",
       "            <tr>\n",
       "                                <th id=\"T_97c78854_7a7f_11eb_99ef_02420a39dcc5level1_row17\" class=\"row_heading level1 row17\" >var</th>\n",
       "                        <td id=\"T_97c78854_7a7f_11eb_99ef_02420a39dcc5row17_col0\" class=\"data row17 col0\" >673931.32</td>\n",
       "                        <td id=\"T_97c78854_7a7f_11eb_99ef_02420a39dcc5row17_col1\" class=\"data row17 col1\" >143491.24</td>\n",
       "            </tr>\n",
       "            <tr>\n",
       "                                <th id=\"T_97c78854_7a7f_11eb_99ef_02420a39dcc5level1_row18\" class=\"row_heading level1 row18\" >sum</th>\n",
       "                        <td id=\"T_97c78854_7a7f_11eb_99ef_02420a39dcc5row18_col0\" class=\"data row18 col0\" >2885751.00</td>\n",
       "                        <td id=\"T_97c78854_7a7f_11eb_99ef_02420a39dcc5row18_col1\" class=\"data row18 col1\" >2040000.00</td>\n",
       "            </tr>\n",
       "            <tr>\n",
       "                                <th id=\"T_97c78854_7a7f_11eb_99ef_02420a39dcc5level1_row19\" class=\"row_heading level1 row19\" >std</th>\n",
       "                        <td id=\"T_97c78854_7a7f_11eb_99ef_02420a39dcc5row19_col0\" class=\"data row19 col0\" >820.93</td>\n",
       "                        <td id=\"T_97c78854_7a7f_11eb_99ef_02420a39dcc5row19_col1\" class=\"data row19 col1\" >378.80</td>\n",
       "            </tr>\n",
       "    </tbody></table>"
      ],
      "text/plain": [
       "<pandas.io.formats.style.Styler at 0x7f318b6989d0>"
      ]
     },
     "execution_count": 15,
     "metadata": {},
     "output_type": "execute_result"
    }
   ],
   "source": [
    "data.groupby('tariff_name')[['gb_used', 'message_used', 'minutes_used', 'profit']].agg({'mean', 'median', 'var', 'std', 'sum'}).T.style.format('{:.2f}')"
   ]
  },
  {
   "cell_type": "code",
   "execution_count": 16,
   "metadata": {},
   "outputs": [
    {
     "data": {
      "text/plain": [
       "smart    2229\n",
       "ultra     985\n",
       "Name: tariff_name, dtype: int64"
      ]
     },
     "execution_count": 16,
     "metadata": {},
     "output_type": "execute_result"
    }
   ],
   "source": [
    "data['tariff_name'].value_counts()"
   ]
  },
  {
   "cell_type": "markdown",
   "metadata": {},
   "source": [
    "Вывод: \n",
    "1. Среднее значение использования трафика для тарифа Смарт составляет 16 GB, что превышает объем трафика включенного в абонентскую плату. Среднее значения для тарифа Ультра выше и укладывается в лимит.\n",
    "2. На тарифе Ультра пользователи чаще отправляют сообщения.\n",
    "3. Пользователи тарифа Смарт в среднем разговаривают на полтора часа меньше, чем пользователи тарифа Ультра.\n",
    "4. В среднем абоненты тарифа Смарт переплачивают сверх своей абонентской платы 700 рублей. Абоненты тарифа Ультра переплачивают на 120 рублей больше сверх своей абонентской платы.\n",
    "5. Суммарный доход от пользователей тарифа Смарт составил 2 885 751 Рублей. Для тарифа Ультра 2 040 000 Рублей.\n",
    "6. Количтесво пользователей тарифа Смарт 2229, а тарифа Ультра 985.\n",
    "\n"
   ]
  },
  {
   "cell_type": "markdown",
   "metadata": {},
   "source": [
    "---\n",
    "Построим гистограммы для двух тарифов"
   ]
  },
  {
   "cell_type": "code",
   "execution_count": 17,
   "metadata": {},
   "outputs": [],
   "source": [
    "tariffs = ['smart', 'ultra']\n",
    "palette = {'smart':'blue', 'ultra':'red'}\n",
    "def hist_mean_quan (column):\n",
    "    plt.figure(figsize=(13, 4))\n",
    "    for tariff in tariffs:\n",
    "        sns.distplot(data.query('tariff_name == @tariff')[column], kde=True, label=tariff, color=palette[tariff], bins=30)\n",
    "        plt.axvline(data.query('tariff_name == @tariff')[column].mean(), color=palette[tariff])\n",
    "        plt.axvline(data.query('tariff_name == @tariff')[column].quantile(0.95), linestyle=':', color=palette[tariff])\n",
    "        plt.axvline(data.query('tariff_name == @tariff')[column].quantile(0.05), linestyle=':', color=palette[tariff])\n",
    "        legend = plt.legend()\n"
   ]
  },
  {
   "cell_type": "code",
   "execution_count": 18,
   "metadata": {},
   "outputs": [
    {
     "data": {
      "image/png": "[encoded data removed]",
      "text/plain": [
       "<Figure size 936x288 with 1 Axes>"
      ]
     },
     "metadata": {
      "needs_background": "light"
     },
     "output_type": "display_data"
    },
    {
     "data": {
      "image/png": "[encoded data removed]",
      "text/plain": [
       "<Figure size 936x288 with 1 Axes>"
      ]
     },
     "metadata": {
      "needs_background": "light"
     },
     "output_type": "display_data"
    },
    {
     "data": {
      "image/png": "[encoded data removed]",
      "text/plain": [
       "<Figure size 936x288 with 1 Axes>"
      ]
     },
     "metadata": {
      "needs_background": "light"
     },
     "output_type": "display_data"
    },
    {
     "data": {
      "image/png": "[encoded data removed]",
      "text/plain": [
       "<Figure size 936x288 with 1 Axes>"
      ]
     },
     "metadata": {
      "needs_background": "light"
     },
     "output_type": "display_data"
    }
   ],
   "source": [
    "column_list = ['gb_used', 'message_used', 'minutes_used', 'profit']\n",
    "\n",
    "for column in column_list:\n",
    "    hist_mean_quan(column)"
   ]
  },
  {
   "cell_type": "markdown",
   "metadata": {},
   "source": [
    " - Количество использованного трафика и использованных минут имеют нормальное распределение. \n",
    " - Количество отправленных сообщений экспоненциальное распределение.\n",
    "\n",
    "---\n",
    "\n"
   ]
  },
  {
   "cell_type": "markdown",
   "metadata": {},
   "source": [
    "### Шаг 4. Проверьте гипотезы\n",
    "\n",
    "\n",
    "\n",
    "\n",
    "##### Проверим следующие гипотезы:\n",
    "1. средняя выручка пользователей тарифов «Ультра» и «Смарт» различается;\n",
    "2. средняя выручка пользователей из Москвы отличается от выручки пользователей из других регионов;\n"
   ]
  },
  {
   "cell_type": "markdown",
   "metadata": {},
   "source": [
    "Для того что бы проверить первую гипотезу, примем за нулевую гипотезу то, что средние наших выборок равны. Альтернативной гипотезой в данном случае будет являться то, что средняя выручка пользователей разных тарифов различаются. Так как количество наблюдений >30, можем воспользоваться критерием t - Стьюдента."
   ]
  },
  {
   "cell_type": "code",
   "execution_count": 19,
   "metadata": {},
   "outputs": [
    {
     "name": "stdout",
     "output_type": "stream",
     "text": [
      "p-значение: 2.9776448000521676e-158\n",
      "Отвергаем нулевую гипотезу\n"
     ]
    }
   ],
   "source": [
    "alpha = .05\n",
    "results = st.ttest_ind(data.query('tariff_name == \"ultra\"')['profit'], data.query('tariff_name == \"smart\"')['profit'])\n",
    "\n",
    "print('p-значение:', results.pvalue)\n",
    "\n",
    "if (results.pvalue < alpha):\n",
    "    print(\"Отвергаем нулевую гипотезу\")\n",
    "else:\n",
    "    print(\"Не получилось отвергнуть нулевую гипотезу\")"
   ]
  },
  {
   "cell_type": "markdown",
   "metadata": {},
   "source": [
    "Вывод: мы получили статистически значимые различия средних значений выручки пользователей разных тарифов, значение p-value слишком мало, поэтому нулевая гипотеза отвергается и можно утверждать что верна альтернативная гипотеза. То есть наша гипотеза о том, что _средняя выручка пользователей тарифов \"Ультра\" и \"Смарт\" различается_ - верна.\n",
    "\n",
    "---\n",
    "Для того что бы проверить вторую гипотезу, примем за нулевую гипотезу то, что средние наших выборок равны. Альтернативной гипотезой в данном случае будет являться то, что средняя выручка пользователей из Москвы отличается от выручки пользователей из других регионов. Так как количество наблюдений >30, можем воспользоваться критерием t - Стьюдента."
   ]
  },
  {
   "cell_type": "code",
   "execution_count": 20,
   "metadata": {},
   "outputs": [
    {
     "name": "stdout",
     "output_type": "stream",
     "text": [
      "p-значение: 0.531666503831252\n",
      "Не получилось отвергнуть нулевую гипотезу\n"
     ]
    }
   ],
   "source": [
    "alpha = .05\n",
    "results = st.ttest_ind(data.query('city == \"Москва\"')['profit'], data.query('city != \"Москва\"')['profit'])\n",
    "\n",
    "print('p-значение:', results.pvalue)\n",
    "\n",
    "if (results.pvalue < alpha):\n",
    "    print(\"Отвергаем нулевую гипотезу\")\n",
    "else:\n",
    "    print(\"Не получилось отвергнуть нулевую гипотезу\")"
   ]
  },
  {
   "cell_type": "markdown",
   "metadata": {},
   "source": [
    "Вывод: полученное значение p-value слишком большое, чтобы делать вывод о значимом различии между средней выручкой пользователей из Москвы и средней выручкой пользователей из других регионов.\n",
    "\n",
    "---\n",
    "Построим гистограмму, что наглядно в этом убедиться."
   ]
  },
  {
   "cell_type": "code",
   "execution_count": 21,
   "metadata": {},
   "outputs": [
    {
     "data": {
      "image/png": "[encoded data removed]",
      "text/plain": [
       "<Figure size 1080x288 with 1 Axes>"
      ]
     },
     "metadata": {
      "needs_background": "light"
     },
     "output_type": "display_data"
    }
   ],
   "source": [
    "plt.figure(figsize=(15, 4))\n",
    "sns.distplot(data.query('city == \"Москва\"')['profit'], kde=False, label='Москва', color='blue', bins=30)\n",
    "sns.distplot(data.query('city != \"Москва\"')['profit'], kde=False, label='Регионы', color='red', bins=30)\n",
    "plt.axvline(data.query('city == \"Москва\"')['profit'].mean(), color='blue')\n",
    "plt.axvline(data.query('city == \"Москва\"')['profit'].quantile(0.95), linestyle=':', color='blue')\n",
    "plt.axvline(data.query('city == \"Москва\"')['profit'].quantile(0.05), linestyle=':', color='blue')\n",
    "plt.axvline(data.query('city != \"Москва\"')['profit'].mean(), color='red')\n",
    "plt.axvline(data.query('city != \"Москва\"')['profit'].quantile(0.95), linestyle=':', color='red')\n",
    "plt.axvline(data.query('city != \"Москва\"')['profit'].quantile(0.05), linestyle=':', color='red')\n",
    "legend = plt.legend()"
   ]
  },
  {
   "cell_type": "markdown",
   "metadata": {},
   "source": [
    "На гистограмме видно что наши выборочные средние практически идентичны.\n",
    "\n",
    "\n",
    "\n",
    "\n",
    "\n",
    "---\n",
    "### Шаг 5. Общий вывод"
   ]
  },
  {
   "cell_type": "markdown",
   "metadata": {},
   "source": [
    "По результатам предварительного анализа двух тарифов и поведения пользователей, можно сделать следущие выводы:\n",
    "\n",
    "В процессе анализа выяснилось, что в выборке больше клиентов с тарифом Смарт 2229, а клиентов с тарифом Ультра 985.\n",
    "Суммарный доход от пользователей тарифа Смарт составил 2 885 751 Рублей. Для тарифа Ультра 2 040 000 Рублей.\n",
    "\n",
    "Пользователи тарифа Смарт чаще докупают дополнительные ГБ, и минуты. Несмотря на это, тариф Ультра в среднем приносит больше прибыли.\n",
    "Средняя выручка от клиента тарифа Ультра оказалась выше, чем у тарифа Смарт, 2071 рублей против 1294 рублей.\n",
    "\n",
    "Подводя итоги, можно сказать что тариф Ультра для компании является более выгодным. \n",
    "\n"
   ]
  },
  {
   "cell_type": "code",
   "execution_count": null,
   "metadata": {},
   "outputs": [],
   "source": []
  }
 ],
 "metadata": {
  "kernelspec": {
   "display_name": "Python 3",
   "language": "python",
   "name": "python3"
  },
  "language_info": {
   "codemirror_mode": {
    "name": "ipython",
    "version": 3
   },
   "file_extension": ".py",
   "mimetype": "text/x-python",
   "name": "python",
   "nbconvert_exporter": "python",
   "pygments_lexer": "ipython3",
   "version": "3.8.5"
  },
  "toc": {
   "base_numbering": 1,
   "nav_menu": {},
   "number_sections": false,
   "sideBar": true,
   "skip_h1_title": true,
   "title_cell": "Table of Contents",
   "title_sidebar": "Contents",
   "toc_cell": false,
   "toc_position": {},
   "toc_section_display": true,
   "toc_window_display": false
  }
 },
 "nbformat": 4,
 "nbformat_minor": 2
}
